{
 "cells": [
  {
   "cell_type": "code",
   "execution_count": 37,
   "metadata": {},
   "outputs": [
    {
     "name": "stdout",
     "output_type": "stream",
     "text": [
      "The autoreload extension is already loaded. To reload it, use:\n",
      "  %reload_ext autoreload\n"
     ]
    }
   ],
   "source": [
    "%load_ext autoreload\n",
    "%autoreload 2\n",
    "%matplotlib inline"
   ]
  },
  {
   "cell_type": "code",
   "execution_count": 38,
   "metadata": {},
   "outputs": [],
   "source": [
    "import os\n",
    "import pandas as pd\n",
    "\n",
    "import torch\n",
    "from torch.utils.data import DataLoader\n",
    "\n",
    "from tqdm.notebook import tqdm\n",
    "\n",
    "from utils import Resize, RecognitionDataset, collate_fn, decode, train_model, load_checkpoint, get_predictions\n",
    "from model import FeatureExtractor, SequencePredictor, CRNN"
   ]
  },
  {
   "cell_type": "code",
   "execution_count": 28,
   "metadata": {},
   "outputs": [],
   "source": [
    "DATA_PATH = '../data_2/'\n",
    "RESULTS_PATH = 'results/'\n",
    "MODELS_PATH = 'models/'\n",
    "\n",
    "TRAIN_IMAGES = os.path.join(DATA_PATH, 'train/train')\n",
    "TEST_IMAGES = os.path.join(DATA_PATH, 'test/test')\n",
    "\n",
    "SIZE_M = (320, 100)"
   ]
  },
  {
   "cell_type": "code",
   "execution_count": 5,
   "metadata": {},
   "outputs": [],
   "source": [
    "if not os.path.exists(RESULTS_PATH):\n",
    "    os.mkdir(RESULTS_PATH)\n",
    "    \n",
    "if not os.path.exists(MODELS_PATH):\n",
    "    os.mkdir(MODELS_PATH)"
   ]
  },
  {
   "cell_type": "markdown",
   "metadata": {},
   "source": [
    "### 1. Подготовим данные"
   ]
  },
  {
   "cell_type": "code",
   "execution_count": 6,
   "metadata": {},
   "outputs": [
    {
     "data": {
      "text/html": [
       "<div>\n",
       "<style scoped>\n",
       "    .dataframe tbody tr th:only-of-type {\n",
       "        vertical-align: middle;\n",
       "    }\n",
       "\n",
       "    .dataframe tbody tr th {\n",
       "        vertical-align: top;\n",
       "    }\n",
       "\n",
       "    .dataframe thead th {\n",
       "        text-align: right;\n",
       "    }\n",
       "</style>\n",
       "<table border=\"1\" class=\"dataframe\">\n",
       "  <thead>\n",
       "    <tr style=\"text-align: right;\">\n",
       "      <th></th>\n",
       "      <th>Id</th>\n",
       "      <th>Expected</th>\n",
       "    </tr>\n",
       "  </thead>\n",
       "  <tbody>\n",
       "    <tr>\n",
       "      <th>0</th>\n",
       "      <td>1.jpg</td>\n",
       "      <td>Атырау</td>\n",
       "    </tr>\n",
       "    <tr>\n",
       "      <th>1</th>\n",
       "      <td>2.jpg</td>\n",
       "      <td>транз</td>\n",
       "    </tr>\n",
       "    <tr>\n",
       "      <th>2</th>\n",
       "      <td>3.jpg</td>\n",
       "      <td>ходят</td>\n",
       "    </tr>\n",
       "    <tr>\n",
       "      <th>3</th>\n",
       "      <td>4.jpg</td>\n",
       "      <td>ощущений,</td>\n",
       "    </tr>\n",
       "    <tr>\n",
       "      <th>4</th>\n",
       "      <td>5.jpg</td>\n",
       "      <td>74</td>\n",
       "    </tr>\n",
       "    <tr>\n",
       "      <th>...</th>\n",
       "      <td>...</td>\n",
       "      <td>...</td>\n",
       "    </tr>\n",
       "    <tr>\n",
       "      <th>275995</th>\n",
       "      <td>275996.jpg</td>\n",
       "      <td>DO</td>\n",
       "    </tr>\n",
       "    <tr>\n",
       "      <th>275996</th>\n",
       "      <td>275997.jpg</td>\n",
       "      <td>BASUCC</td>\n",
       "    </tr>\n",
       "    <tr>\n",
       "      <th>275997</th>\n",
       "      <td>275998.jpg</td>\n",
       "      <td>1,120</td>\n",
       "    </tr>\n",
       "    <tr>\n",
       "      <th>275998</th>\n",
       "      <td>275999.jpg</td>\n",
       "      <td>наблюдателей,</td>\n",
       "    </tr>\n",
       "    <tr>\n",
       "      <th>275999</th>\n",
       "      <td>276000.jpg</td>\n",
       "      <td>пресс-секретарь</td>\n",
       "    </tr>\n",
       "  </tbody>\n",
       "</table>\n",
       "<p>276000 rows × 2 columns</p>\n",
       "</div>"
      ],
      "text/plain": [
       "                Id         Expected\n",
       "0            1.jpg           Атырау\n",
       "1            2.jpg            транз\n",
       "2            3.jpg            ходят\n",
       "3            4.jpg        ощущений,\n",
       "4            5.jpg               74\n",
       "...            ...              ...\n",
       "275995  275996.jpg               DO\n",
       "275996  275997.jpg           BASUCC\n",
       "275997  275998.jpg            1,120\n",
       "275998  275999.jpg    наблюдателей,\n",
       "275999  276000.jpg  пресс-секретарь\n",
       "\n",
       "[276000 rows x 2 columns]"
      ]
     },
     "execution_count": 6,
     "metadata": {},
     "output_type": "execute_result"
    }
   ],
   "source": [
    "train_data = pd.read_csv(os.path.join(DATA_PATH, 'train_labels.csv'))\n",
    "train_data"
   ]
  },
  {
   "cell_type": "code",
   "execution_count": 7,
   "metadata": {},
   "outputs": [
    {
     "name": "stdout",
     "output_type": "stream",
     "text": [
      "Пустыне значения Expected 27\n"
     ]
    },
    {
     "data": {
      "text/plain": [
       "<AxesSubplot:>"
      ]
     },
     "execution_count": 7,
     "metadata": {},
     "output_type": "execute_result"
    },
    {
     "data": {
      "image/png": "[encoded data removed]",
      "text/plain": [
       "<Figure size 432x288 with 1 Axes>"
      ]
     },
     "metadata": {
      "needs_background": "light"
     },
     "output_type": "display_data"
    }
   ],
   "source": [
    "print('Пустыне значения Expected', len(train_data[train_data.Expected != train_data.Expected]))\n",
    "train_data.Expected.str.len().hist(bins=20)"
   ]
  },
  {
   "cell_type": "markdown",
   "metadata": {},
   "source": [
    "В датасете есть пропуски в Expected. Так же, основная часть текстов длиной не более 20 символов. Оставим только их + уберем пропуски."
   ]
  },
  {
   "cell_type": "code",
   "execution_count": 8,
   "metadata": {},
   "outputs": [],
   "source": [
    "train_data = train_data.dropna()\n",
    "train_data = train_data[train_data.Expected.str.len() <= 20]"
   ]
  },
  {
   "cell_type": "markdown",
   "metadata": {},
   "source": [
    "Сформируем наш \"алфавит\""
   ]
  },
  {
   "cell_type": "code",
   "execution_count": 9,
   "metadata": {},
   "outputs": [
    {
     "data": {
      "application/vnd.jupyter.widget-view+json": {
       "model_id": "8ce7916269c740b09931cd9295753d5f",
       "version_major": 2,
       "version_minor": 0
      },
      "text/plain": [
       "  0%|          | 0/273475 [00:00<?, ?it/s]"
      ]
     },
     "metadata": {},
     "output_type": "display_data"
    },
    {
     "name": "stdout",
     "output_type": "stream",
     "text": [
      "Длина алфавита: 604\n"
     ]
    }
   ],
   "source": [
    "char_to_id = {}\n",
    "char_counts = {}\n",
    "\n",
    "char_id = 1\n",
    "for i in tqdm(range(len(train_data))):\n",
    "    label = train_data.iloc[i]['Expected']\n",
    "    for char in label:\n",
    "        if char not in char_to_id:\n",
    "            char_to_id[char] = char_id\n",
    "            char_counts[char] = 1\n",
    "            char_id += 1\n",
    "        else:\n",
    "            char_counts[char] += 1\n",
    "            \n",
    "\n",
    "id_to_char = {id: char for char, id in char_to_id.items()}\n",
    "\n",
    "print(f'Длина алфавита: {len(char_to_id)}')"
   ]
  },
  {
   "cell_type": "markdown",
   "metadata": {},
   "source": [
    "Алфавит кажется слишком длинным (изначально с таким у меня плохо обучалось). Посмотрим на него"
   ]
  },
  {
   "cell_type": "code",
   "execution_count": 10,
   "metadata": {},
   "outputs": [
    {
     "data": {
      "text/plain": [
       "[('山', 1),\n",
       " ('形', 1),\n",
       " ('法', 1),\n",
       " ('意', 1),\n",
       " ('好', 1),\n",
       " ('的', 1),\n",
       " ('時', 1),\n",
       " ('刻', 1),\n",
       " ('追', 1),\n",
       " ('分', 1),\n",
       " ('є', 1),\n",
       " ('Ë', 1),\n",
       " ('だ', 1),\n",
       " ('만', 1),\n",
       " ('복', 1),\n",
       " ('ป', 1),\n",
       " ('ร', 1),\n",
       " ('ส', 1),\n",
       " ('ท', 1),\n",
       " ('น', 1),\n",
       " ('鄧', 1),\n",
       " ('宗', 1),\n",
       " ('楊', 1),\n",
       " ('٬', 1),\n",
       " ('魚', 1),\n",
       " ('藍', 1),\n",
       " ('観', 1),\n",
       " ('音', 1),\n",
       " ('記', 1),\n",
       " ('ö', 1),\n",
       " ('♬', 1),\n",
       " ('հ', 1),\n",
       " ('ק', 1),\n",
       " ('נ', 1),\n",
       " ('ו', 1),\n",
       " ('ס', 1),\n",
       " ('ἰ', 1),\n",
       " ('χ', 1),\n",
       " ('θ', 1),\n",
       " ('村', 1),\n",
       " ('く', 1),\n",
       " ('ん', 1),\n",
       " ('ὶ', 1),\n",
       " ('▲', 1),\n",
       " ('Ù', 1),\n",
       " ('重', 1),\n",
       " ('،', 1),\n",
       " ('բ', 1),\n",
       " ('ց', 1),\n",
       " ('社', 1),\n",
       " ('會', 1),\n",
       " ('通', 1),\n",
       " ('詮', 1),\n",
       " ('ɑ', 1),\n",
       " ('☎', 1),\n",
       " ('Υ', 1),\n",
       " ('Ｏ', 1),\n",
       " ('ㄉ', 1),\n",
       " ('ㄞ', 1),\n",
       " ('後', 1),\n",
       " ('喫', 1),\n",
       " ('煙', 1),\n",
       " ('者', 1),\n",
       " ('和', 1),\n",
       " ('▁', 1),\n",
       " ('あ', 1),\n",
       " ('さ', 1),\n",
       " ('ひ', 1),\n",
       " ('江', 1),\n",
       " ('州', 1),\n",
       " ('δ', 1),\n",
       " ('と', 1),\n",
       " ('ば', 1),\n",
       " ('Ü', 1),\n",
       " ('ु', 1),\n",
       " ('ळ', 1),\n",
       " ('そ', 1),\n",
       " ('甲', 1),\n",
       " ('婓', 1),\n",
       " ('郎', 1),\n",
       " ('等', 1),\n",
       " ('兵', 1),\n",
       " ('き', 1),\n",
       " ('ょ', 1),\n",
       " ('Ք', 1),\n",
       " ('ի', 1),\n",
       " ('չ', 1),\n",
       " ('阪', 1),\n",
       " ('府', 1),\n",
       " ('Đ', 1),\n",
       " ('á', 1),\n",
       " ('内', 1),\n",
       " ('琬', 1),\n",
       " ('費', 1),\n",
       " ('禕', 1),\n",
       " ('姜', 1),\n",
       " ('維', 1),\n",
       " ('´', 1),\n",
       " ('近', 1),\n",
       " ('所', 1),\n",
       " ('迷', 1),\n",
       " ('惑', 1),\n",
       " ('Η', 1),\n",
       " ('Σ', 1),\n",
       " ('鰐', 1),\n",
       " ('έ', 1),\n",
       " ('ξ', 1),\n",
       " ('中', 1),\n",
       " ('ト', 1),\n",
       " ('ヨ', 1),\n",
       " ('タ', 1),\n",
       " ('カ', 1),\n",
       " ('ム', 1),\n",
       " ('リ', 1),\n",
       " ('Ƨ', 1),\n",
       " ('書', 1),\n",
       " ('승', 1),\n",
       " ('규', 1),\n",
       " ('も', 1),\n",
       " ('よ', 1),\n",
       " ('こ', 1),\n",
       " ('す', 1),\n",
       " ('ὖ', 1),\n",
       " ('白', 1),\n",
       " ('彝', 1),\n",
       " ('定', 1),\n",
       " ('加', 1),\n",
       " ('Ｒ', 1),\n",
       " ('９', 1),\n",
       " ('程', 1),\n",
       " ('郭', 1),\n",
       " ('董', 1),\n",
       " ('７', 1),\n",
       " ('ό', 1),\n",
       " ('沙', 1),\n",
       " ('∘', 1),\n",
       " ('च', 1),\n",
       " ('थ', 1),\n",
       " ('백', 1),\n",
       " ('두', 1),\n",
       " ('산', 1),\n",
       " ('〝', 1),\n",
       " ('桓', 1),\n",
       " ('秘', 1),\n",
       " ('Ｍ', 1),\n",
       " ('ら', 1),\n",
       " ('Ａ', 1),\n",
       " ('Ｎ', 1),\n",
       " ('د', 1),\n",
       " ('ح', 1),\n",
       " ('ك', 1),\n",
       " ('ت', 1),\n",
       " ('Â', 1),\n",
       " ('東', 1),\n",
       " ('都', 1),\n",
       " ('ɔ', 1),\n",
       " ('ʌ', 1),\n",
       " ('朝', 1),\n",
       " ('嗣', 1),\n",
       " ('文', 1),\n",
       " ('苑', 1),\n",
       " ('洲', 1),\n",
       " ('四', 1),\n",
       " ('级', 1),\n",
       " ('军', 1),\n",
       " ('长', 1),\n",
       " ('Æ', 1),\n",
       " ('∼', 1),\n",
       " ('ῦ', 1),\n",
       " ('蘇', 1),\n",
       " ('慧', 1),\n",
       " ('貞', 1),\n",
       " ('＋', 1),\n",
       " ('≤', 1),\n",
       " ('末', 1),\n",
       " ('光', 1),\n",
       " ('俊', 1),\n",
       " ('介', 1),\n",
       " ('κ', 1),\n",
       " ('ῆ', 1),\n",
       " ('に', 1),\n",
       " ('ê', 1),\n",
       " ('מ', 1),\n",
       " ('כ', 1),\n",
       " ('י', 1),\n",
       " ('ם', 1),\n",
       " ('李', 1),\n",
       " ('呂', 1),\n",
       " ('王', 1),\n",
       " ('ã', 1),\n",
       " ('õ', 1),\n",
       " ('Õ', 1),\n",
       " ('원', 1),\n",
       " ('세', 1),\n",
       " ('훈', 1),\n",
       " ('Ω', 1),\n",
       " ('ἄ', 1),\n",
       " ('υ', 1),\n",
       " ('原', 1),\n",
       " ('始', 1),\n",
       " ('人', 1),\n",
       " ('板', 1),\n",
       " ('秀', 1),\n",
       " ('哉', 1),\n",
       " ('け', 1),\n",
       " ('Ô', 1),\n",
       " ('Θ', 1),\n",
       " ('や', 1),\n",
       " ('ぶ', 1),\n",
       " ('競', 1),\n",
       " ('場', 1),\n",
       " ('前', 1),\n",
       " ('‰', 1),\n",
       " ('โ', 1),\n",
       " ('ค', 1),\n",
       " ('็', 1),\n",
       " ('森', 1),\n",
       " ('岡', 1),\n",
       " ('ª', 1),\n",
       " ('¯', 1),\n",
       " ('½', 1),\n",
       " ('紹', 1),\n",
       " ('基', 1),\n",
       " ('ม', 1),\n",
       " ('ง', 1),\n",
       " ('천', 1),\n",
       " ('용', 1),\n",
       " ('택', 1),\n",
       " ('ô', 1),\n",
       " ('ن', 1),\n",
       " ('ὼ', 1),\n",
       " ('ғ', 1),\n",
       " ('व', 1),\n",
       " ('श', 1),\n",
       " ('ख', 1),\n",
       " ('ᾱ', 1),\n",
       " ('ｈ', 1),\n",
       " ('北', 1),\n",
       " ('海', 1),\n",
       " ('道', 1),\n",
       " ('र', 1),\n",
       " ('्', 1),\n",
       " ('ग', 1),\n",
       " ('；', 1),\n",
       " ('藪', 1),\n",
       " ('☆', 1),\n",
       " ('石', 1),\n",
       " ('奶', 1),\n",
       " ('Μ', 1),\n",
       " ('≠', 1),\n",
       " ('ุ', 1),\n",
       " ('์', 1),\n",
       " ('る', 1),\n",
       " ('賈', 1),\n",
       " ('¤', 1),\n",
       " ('２', 1),\n",
       " ('ｉ', 1),\n",
       " ('Ｖ', 1),\n",
       " ('Ｔ', 1),\n",
       " ('Ｅ', 1),\n",
       " ('Ｃ', 1),\n",
       " ('県', 2),\n",
       " ('最', 2),\n",
       " ('김', 2),\n",
       " ('า', 2),\n",
       " ('ย', 2),\n",
       " ('ห', 2),\n",
       " ('ื', 2),\n",
       " ('ί', 2),\n",
       " ('ե', 2),\n",
       " ('ն', 2),\n",
       " ('ք', 2),\n",
       " ('ա', 2),\n",
       " ('յ', 2),\n",
       " ('ל', 2),\n",
       " ('ה', 2),\n",
       " ('Є', 2),\n",
       " ('ύ', 2),\n",
       " ('た', 2),\n",
       " ('し', 2),\n",
       " ('ち', 2),\n",
       " ('の', 2),\n",
       " ('田', 2),\n",
       " ('ع', 2),\n",
       " ('Δ', 2),\n",
       " ('└', 2),\n",
       " ('æ', 2),\n",
       " ('Κ', 2),\n",
       " ('Ρ', 2),\n",
       " ('？', 2),\n",
       " ('》', 2),\n",
       " ('Ө', 2),\n",
       " ('म', 2),\n",
       " ('い', 2),\n",
       " ('¡', 2),\n",
       " ('蔣', 2),\n",
       " ('Π', 2),\n",
       " ('Ν', 2),\n",
       " ('Ε', 2),\n",
       " ('将', 2),\n",
       " ('吳', 2),\n",
       " ('津', 2),\n",
       " ('【', 2),\n",
       " ('ঃ', 2),\n",
       " ('∣', 2),\n",
       " ('黃', 2),\n",
       " ('﹣', 2),\n",
       " ('８', 2),\n",
       " ('頭', 2),\n",
       " ('ै', 2),\n",
       " ('β', 2),\n",
       " ('京', 2),\n",
       " ('主', 2),\n",
       " ('γ', 2),\n",
       " ('و', 2),\n",
       " ('尾', 2),\n",
       " ('士', 2),\n",
       " ('È', 2),\n",
       " ('μ', 2),\n",
       " ('³', 2),\n",
       " ('馬', 2),\n",
       " ('᛫', 2),\n",
       " ('井', 2),\n",
       " ('ก', 2),\n",
       " ('พ', 2),\n",
       " ('Ⅱ', 2),\n",
       " ('′', 3),\n",
       " ('↑', 3),\n",
       " ('อ', 3),\n",
       " ('張', 3),\n",
       " ('ì', 3),\n",
       " ('è', 3),\n",
       " ('ي', 3),\n",
       " ('＇', 3),\n",
       " ('三', 3),\n",
       " ('Τ', 3),\n",
       " ('Ο', 3),\n",
       " ('Ι', 3),\n",
       " ('・', 3),\n",
       " ('㎡', 3),\n",
       " ('\\u3000', 3),\n",
       " ('ा', 3),\n",
       " ('上', 3),\n",
       " ('‑', 3),\n",
       " ('】', 3),\n",
       " ('つ', 3),\n",
       " ('ι', 3),\n",
       " ('§', 3),\n",
       " ('↓', 3),\n",
       " ('か', 3),\n",
       " ('≡', 3),\n",
       " ('劉', 3),\n",
       " ('م', 3),\n",
       " ('ی', 3),\n",
       " ('ά', 3),\n",
       " ('™', 4),\n",
       " ('เ', 4),\n",
       " ('├', 4),\n",
       " ('ا', 4),\n",
       " ('ل', 4),\n",
       " ('π', 4),\n",
       " ('ε', 4),\n",
       " ('ї', 4),\n",
       " ('Α', 4),\n",
       " ('り', 4),\n",
       " ('う', 4),\n",
       " ('²', 4),\n",
       " ('１', 4),\n",
       " ('ō', 5),\n",
       " ('σ', 5),\n",
       " ('ρ', 5),\n",
       " ('à', 5),\n",
       " ('Ö', 5),\n",
       " ('ў', 5),\n",
       " ('∧', 5),\n",
       " ('λ', 5),\n",
       " ('０', 5),\n",
       " ('τ', 5),\n",
       " ('★', 6),\n",
       " ('─', 6),\n",
       " ('ν', 6),\n",
       " ('傳', 6),\n",
       " ('‘', 6),\n",
       " ('س', 6),\n",
       " ('▪', 7),\n",
       " ('。', 7),\n",
       " ('わ', 7),\n",
       " ('É', 7),\n",
       " ('℃', 7),\n",
       " ('●', 7),\n",
       " ('ς', 7),\n",
       " ('₩', 7),\n",
       " ('ü', 8),\n",
       " ('－', 8),\n",
       " ('\\u200c', 9),\n",
       " ('ο', 9),\n",
       " ('ä', 9),\n",
       " ('•', 9),\n",
       " ('Λ', 9),\n",
       " ('＆', 9),\n",
       " ('−', 9),\n",
       " ('α', 10),\n",
       " ('｜', 10),\n",
       " ('大', 10),\n",
       " ('駅', 11),\n",
       " ('ө', 11),\n",
       " ('\\xad', 12),\n",
       " ('£', 13),\n",
       " ('қ', 13),\n",
       " ('×', 13),\n",
       " ('Ⓡ', 14),\n",
       " ('é', 15),\n",
       " ('←', 15),\n",
       " ('।', 16),\n",
       " ('→', 16),\n",
       " ('©', 16),\n",
       " ('Қ', 17),\n",
       " ('，', 17),\n",
       " ('\\\\', 18),\n",
       " ('、', 21),\n",
       " ('お', 24),\n",
       " ('¥', 27),\n",
       " ('）', 28),\n",
       " ('（', 33),\n",
       " ('°', 54),\n",
       " ('！', 60),\n",
       " ('€', 74),\n",
       " ('￥', 94),\n",
       " ('…', 111),\n",
       " ('q', 160),\n",
       " ('~', 203),\n",
       " ('·', 227),\n",
       " ('І', 268),\n",
       " ('j', 274),\n",
       " ('”', 286),\n",
       " ('„', 291),\n",
       " ('і', 291),\n",
       " ('‐', 297),\n",
       " ('“', 319),\n",
       " ('：', 347),\n",
       " ('＃', 413),\n",
       " ('x', 478),\n",
       " ('}', 490),\n",
       " ('<', 509),\n",
       " ('=', 509),\n",
       " ('Ъ', 510),\n",
       " ('>', 513),\n",
       " ('_', 514),\n",
       " ('`', 522),\n",
       " ('@', 539),\n",
       " ('{', 541),\n",
       " ('Ё', 544),\n",
       " ('Q', 552),\n",
       " ('–', 580),\n",
       " ('—', 586),\n",
       " ('№', 598),\n",
       " ('#', 623),\n",
       " ('|', 656),\n",
       " (']', 670),\n",
       " ('[', 670),\n",
       " ('$', 682),\n",
       " ('*', 745),\n",
       " ('Щ', 760),\n",
       " ('+', 776),\n",
       " ('&', 820),\n",
       " ('’', 840),\n",
       " ('®', 905),\n",
       " ('/', 924),\n",
       " ('ъ', 943),\n",
       " (\"'\", 957),\n",
       " ('z', 960),\n",
       " ('«', 985),\n",
       " ('%', 1007),\n",
       " ('»', 1013),\n",
       " ('Ц', 1107),\n",
       " ('Э', 1223),\n",
       " ('?', 1244),\n",
       " (';', 1298),\n",
       " ('!', 1312),\n",
       " ('v', 1341),\n",
       " ('Ю', 1521),\n",
       " ('w', 1540),\n",
       " ('Х', 1550),\n",
       " ('J', 1564),\n",
       " ('Z', 1593),\n",
       " ('X', 1633),\n",
       " ('k', 1647),\n",
       " ('Ф', 1707),\n",
       " ('Ь', 1732),\n",
       " ('f', 1803),\n",
       " ('b', 1845),\n",
       " ('Ш', 1899),\n",
       " ('y', 2000),\n",
       " ('Ы', 2006),\n",
       " ('Й', 2095),\n",
       " ('Ж', 2174),\n",
       " ('Ч', 2376),\n",
       " ('э', 2551),\n",
       " ('ё', 2600),\n",
       " ('p', 2632),\n",
       " ('W', 2687),\n",
       " ('V', 2793),\n",
       " ('g', 2893),\n",
       " (':', 2977),\n",
       " ('(', 2992),\n",
       " ('З', 3089),\n",
       " ('K', 3121),\n",
       " ('Я', 3283),\n",
       " (')', 3514),\n",
       " ('Y', 3598),\n",
       " ('m', 3606),\n",
       " ('h', 3826),\n",
       " ('ф', 3838),\n",
       " ('d', 3870),\n",
       " ('Б', 3945),\n",
       " ('F', 4043),\n",
       " ('щ', 4075),\n",
       " ('Г', 4342),\n",
       " ('u', 4526),\n",
       " ('\"', 4637),\n",
       " ('c', 4716),\n",
       " ('У', 4812),\n",
       " ('B', 4980),\n",
       " ('Д', 5451),\n",
       " ('G', 5816),\n",
       " ('D', 6025),\n",
       " ('P', 6221),\n",
       " ('Л', 6270),\n",
       " ('ц', 6313),\n",
       " ('U', 6362),\n",
       " ('М', 6420),\n",
       " ('l', 6451),\n",
       " ('s', 6526),\n",
       " ('M', 6672),\n",
       " ('H', 6752),\n",
       " ('П', 7141),\n",
       " ('ю', 7154),\n",
       " ('В', 7455),\n",
       " ('ш', 7655),\n",
       " ('t', 8102),\n",
       " ('Т', 8248),\n",
       " ('r', 8410),\n",
       " ('Е', 8760),\n",
       " ('Р', 8852),\n",
       " ('Н', 9157),\n",
       " ('C', 9588),\n",
       " ('ж', 9775),\n",
       " ('L', 9819),\n",
       " ('n', 9947),\n",
       " ('х', 9960),\n",
       " ('И', 10003),\n",
       " ('К', 10752),\n",
       " ('o', 10792),\n",
       " ('С', 10990),\n",
       " ('i', 11559),\n",
       " ('-', 11770),\n",
       " ('R', 12031),\n",
       " ('T', 12302),\n",
       " ('S', 12643),\n",
       " ('a', 12702),\n",
       " ('4', 12949),\n",
       " ('N', 13484),\n",
       " ('ч', 13644),\n",
       " ('О', 13796),\n",
       " ('7', 13880),\n",
       " ('А', 14090),\n",
       " ('6', 14156),\n",
       " ('O', 14558),\n",
       " ('9', 14873),\n",
       " ('I', 14897),\n",
       " ('e', 15011),\n",
       " ('й', 15437),\n",
       " ('5', 16248),\n",
       " ('8', 16500),\n",
       " ('б', 16957),\n",
       " ('3', 17013),\n",
       " ('з', 17352),\n",
       " ('ь', 17622),\n",
       " ('E', 18326),\n",
       " ('г', 18503),\n",
       " ('A', 19071),\n",
       " (',', 19864),\n",
       " ('2', 20702),\n",
       " ('ы', 21362),\n",
       " ('.', 22754),\n",
       " ('я', 24594),\n",
       " (' ', 25739),\n",
       " ('у', 26545),\n",
       " ('п', 26832),\n",
       " ('0', 29825),\n",
       " ('1', 30939),\n",
       " ('д', 31144),\n",
       " ('м', 33377),\n",
       " ('к', 41765),\n",
       " ('в', 41817),\n",
       " ('л', 48262),\n",
       " ('р', 58317),\n",
       " ('с', 59413),\n",
       " ('т', 63582),\n",
       " ('н', 71494),\n",
       " ('и', 77405),\n",
       " ('е', 86514),\n",
       " ('а', 95636),\n",
       " ('о', 107692)]"
      ]
     },
     "execution_count": 10,
     "metadata": {},
     "output_type": "execute_result"
    }
   ],
   "source": [
    "sorted(char_counts.items(), key=lambda x:x[1])"
   ]
  },
  {
   "cell_type": "markdown",
   "metadata": {},
   "source": [
    "Посмотрев на алфавит, решил удалить из него все символы, количество встречаемости которых меньше 27.\n",
    "Так же убираю из тренировочного набора все данные, в которых содержались удаленные символы."
   ]
  },
  {
   "cell_type": "code",
   "execution_count": 11,
   "metadata": {},
   "outputs": [
    {
     "name": "stdout",
     "output_type": "stream",
     "text": [
      "Осталось символов в алфавите: 183\n",
      "Длина датасета в результате: 272900\n"
     ]
    },
    {
     "data": {
      "application/vnd.jupyter.widget-view+json": {
       "model_id": "812615d467f0431e9cd5307ff61e9219",
       "version_major": 2,
       "version_minor": 0
      },
      "text/plain": [
       "  0%|          | 0/272900 [00:00<?, ?it/s]"
      ]
     },
     "metadata": {},
     "output_type": "display_data"
    },
    {
     "name": "stdout",
     "output_type": "stream",
     "text": [
      "Длина алфавита в результате (для проверки): 183\n"
     ]
    }
   ],
   "source": [
    "good_letters = set([x[0] for x in char_counts.items() if x[1] >= 27])\n",
    "print(f'Осталось символов в алфавите: {len(good_letters)}')\n",
    "\n",
    "\n",
    "train_data = train_data[train_data.Expected.apply(\n",
    "    lambda text: len(set(text).intersection(good_letters)) == len(set(text))\n",
    ")].reset_index(drop=True)\n",
    "\n",
    "print(f'Длина датасета в результате: {len(train_data)}')\n",
    "\n",
    "char_to_id = {}\n",
    "char_counts = {}\n",
    "\n",
    "char_id = 1\n",
    "for i in tqdm(range(len(train_data))):\n",
    "    label = train_data.iloc[i]['Expected']\n",
    "    for char in label:\n",
    "        if char not in char_to_id:\n",
    "            char_to_id[char] = char_id\n",
    "            char_counts[char] = 1\n",
    "            char_id += 1\n",
    "        else:\n",
    "            char_counts[char] += 1\n",
    "            \n",
    "\n",
    "id_to_char = {id: char for char, id in char_to_id.items()}\n",
    "\n",
    "print(f'Длина алфавита в результате (для проверки): {len(char_to_id)}')"
   ]
  },
  {
   "cell_type": "code",
   "execution_count": 12,
   "metadata": {},
   "outputs": [],
   "source": [
    "t_data = train_data.sample(frac=1, random_state=42)\n",
    "\n",
    "train_size = int(len(t_data) * 0.9)\n",
    "config_train = t_data[:train_size]\n",
    "config_val = t_data[train_size:]\n",
    "\n",
    "train_transform = Resize(size=SIZE_M)\n",
    "\n",
    "train_dataset = RecognitionDataset(config_train, char_to_id=char_to_id, folder=TRAIN_IMAGES, \n",
    "                                   transforms=train_transform)\n",
    "val_dataset = RecognitionDataset(config_val, char_to_id=char_to_id, folder=TRAIN_IMAGES,\n",
    "                                 transforms=train_transform)\n",
    "\n",
    "train_batch_size = 350\n",
    "val_batch_size = 128\n",
    "num_workers = 6\n",
    "\n",
    "train_dataloader = DataLoader(train_dataset, \n",
    "                              batch_size=train_batch_size, shuffle=True, num_workers=num_workers, pin_memory=True, \n",
    "                              drop_last=True, collate_fn=collate_fn)\n",
    "\n",
    "val_dataloader = DataLoader(val_dataset, \n",
    "                            batch_size=val_batch_size, shuffle=False, num_workers=num_workers, pin_memory=True, \n",
    "                            drop_last=False, collate_fn=collate_fn)"
   ]
  },
  {
   "cell_type": "markdown",
   "metadata": {},
   "source": [
    "### Обучение модели"
   ]
  },
  {
   "cell_type": "code",
   "execution_count": 13,
   "metadata": {},
   "outputs": [
    {
     "data": {
      "text/plain": [
       "device(type='cuda', index=0)"
      ]
     },
     "execution_count": 13,
     "metadata": {},
     "output_type": "execute_result"
    }
   ],
   "source": [
    "device = torch.device(\"cuda:0\") if torch.cuda.is_available() else torch.device(\"cpu\")\n",
    "device"
   ]
  },
  {
   "cell_type": "code",
   "execution_count": 32,
   "metadata": {
    "scrolled": true
   },
   "outputs": [
    {
     "data": {
      "application/vnd.jupyter.widget-view+json": {
       "model_id": "5f600fe90d9c440685bdb6757ec371cc",
       "version_major": 2,
       "version_minor": 0
      },
      "text/plain": [
       "  0%|          | 0/701 [00:00<?, ?it/s]"
      ]
     },
     "metadata": {},
     "output_type": "display_data"
    },
    {
     "name": "stdout",
     "output_type": "stream",
     "text": [
      "0 train: 4.4366736891606395\n"
     ]
    },
    {
     "data": {
      "application/vnd.jupyter.widget-view+json": {
       "model_id": "d98e5df8b0664a35af3daeb568c0051a",
       "version_major": 2,
       "version_minor": 0
      },
      "text/plain": [
       "  0%|          | 0/214 [00:00<?, ?it/s]"
      ]
     },
     "metadata": {},
     "output_type": "display_data"
    },
    {
     "name": "stdout",
     "output_type": "stream",
     "text": [
      "0 validation loss: 3.7923175386179273\n",
      "0 validation lev_mean: 5.995932576035178\n"
     ]
    },
    {
     "data": {
      "application/vnd.jupyter.widget-view+json": {
       "model_id": "b05a3b09c594443f8492147db9636a29",
       "version_major": 2,
       "version_minor": 0
      },
      "text/plain": [
       "  0%|          | 0/701 [00:00<?, ?it/s]"
      ]
     },
     "metadata": {},
     "output_type": "display_data"
    },
    {
     "name": "stdout",
     "output_type": "stream",
     "text": [
      "1 train: 3.0869628274321728\n"
     ]
    },
    {
     "data": {
      "application/vnd.jupyter.widget-view+json": {
       "model_id": "49e7930cccba4d83b97aaf4f1a89e5ab",
       "version_major": 2,
       "version_minor": 0
      },
      "text/plain": [
       "  0%|          | 0/214 [00:00<?, ?it/s]"
      ]
     },
     "metadata": {},
     "output_type": "display_data"
    },
    {
     "name": "stdout",
     "output_type": "stream",
     "text": [
      "1 validation loss: 2.381427642340972\n",
      "1 validation lev_mean: 4.213594723341884\n"
     ]
    },
    {
     "data": {
      "application/vnd.jupyter.widget-view+json": {
       "model_id": "6a01809da5c144d1adb20cfabef93c60",
       "version_major": 2,
       "version_minor": 0
      },
      "text/plain": [
       "  0%|          | 0/701 [00:00<?, ?it/s]"
      ]
     },
     "metadata": {},
     "output_type": "display_data"
    },
    {
     "name": "stdout",
     "output_type": "stream",
     "text": [
      "2 train: 2.0389336152015503\n"
     ]
    },
    {
     "data": {
      "application/vnd.jupyter.widget-view+json": {
       "model_id": "b5f80a173304481cbf20fc3a27239663",
       "version_major": 2,
       "version_minor": 0
      },
      "text/plain": [
       "  0%|          | 0/214 [00:00<?, ?it/s]"
      ]
     },
     "metadata": {},
     "output_type": "display_data"
    },
    {
     "name": "stdout",
     "output_type": "stream",
     "text": [
      "2 validation loss: 1.8223203353792707\n",
      "2 validation lev_mean: 3.141773543422499\n"
     ]
    },
    {
     "data": {
      "application/vnd.jupyter.widget-view+json": {
       "model_id": "911a553200c64ff4be17324509bcdbc0",
       "version_major": 2,
       "version_minor": 0
      },
      "text/plain": [
       "  0%|          | 0/701 [00:00<?, ?it/s]"
      ]
     },
     "metadata": {},
     "output_type": "display_data"
    },
    {
     "name": "stdout",
     "output_type": "stream",
     "text": [
      "3 train: 1.66384264831026\n"
     ]
    },
    {
     "data": {
      "application/vnd.jupyter.widget-view+json": {
       "model_id": "be327d3bf35941ea9dab24c7ddee8f90",
       "version_major": 2,
       "version_minor": 0
      },
      "text/plain": [
       "  0%|          | 0/214 [00:00<?, ?it/s]"
      ]
     },
     "metadata": {},
     "output_type": "display_data"
    },
    {
     "name": "stdout",
     "output_type": "stream",
     "text": [
      "3 validation loss: 1.6164283964121453\n",
      "3 validation lev_mean: 2.851813851227556\n"
     ]
    },
    {
     "data": {
      "application/vnd.jupyter.widget-view+json": {
       "model_id": "77d6dc44f5994388b3b05f1ea13b43ca",
       "version_major": 2,
       "version_minor": 0
      },
      "text/plain": [
       "  0%|          | 0/701 [00:00<?, ?it/s]"
      ]
     },
     "metadata": {},
     "output_type": "display_data"
    },
    {
     "name": "stdout",
     "output_type": "stream",
     "text": [
      "4 train: 1.5108468202653522\n"
     ]
    },
    {
     "data": {
      "application/vnd.jupyter.widget-view+json": {
       "model_id": "7cf5fe9b761541b08cec8a59add05f19",
       "version_major": 2,
       "version_minor": 0
      },
      "text/plain": [
       "  0%|          | 0/214 [00:00<?, ?it/s]"
      ]
     },
     "metadata": {},
     "output_type": "display_data"
    },
    {
     "name": "stdout",
     "output_type": "stream",
     "text": [
      "4 validation loss: 1.5750731213070521\n",
      "4 validation lev_mean: 2.6914620740197877\n"
     ]
    },
    {
     "data": {
      "application/vnd.jupyter.widget-view+json": {
       "model_id": "3c5070bbcd6743dc9eba92a267372277",
       "version_major": 2,
       "version_minor": 0
      },
      "text/plain": [
       "  0%|          | 0/701 [00:00<?, ?it/s]"
      ]
     },
     "metadata": {},
     "output_type": "display_data"
    },
    {
     "name": "stdout",
     "output_type": "stream",
     "text": [
      "5 train: 1.4274746965239629\n"
     ]
    },
    {
     "data": {
      "application/vnd.jupyter.widget-view+json": {
       "model_id": "4a1dd4b3687944e280a7e2ce455dccfc",
       "version_major": 2,
       "version_minor": 0
      },
      "text/plain": [
       "  0%|          | 0/214 [00:00<?, ?it/s]"
      ]
     },
     "metadata": {},
     "output_type": "display_data"
    },
    {
     "name": "stdout",
     "output_type": "stream",
     "text": [
      "5 validation loss: 1.454731508393154\n",
      "5 validation lev_mean: 2.521986075485526\n"
     ]
    },
    {
     "data": {
      "application/vnd.jupyter.widget-view+json": {
       "model_id": "f8998ba6afee4579861255d115a0480d",
       "version_major": 2,
       "version_minor": 0
      },
      "text/plain": [
       "  0%|          | 0/701 [00:00<?, ?it/s]"
      ]
     },
     "metadata": {},
     "output_type": "display_data"
    },
    {
     "name": "stdout",
     "output_type": "stream",
     "text": [
      "6 train: 1.370191479205405\n"
     ]
    },
    {
     "data": {
      "application/vnd.jupyter.widget-view+json": {
       "model_id": "bea17b6cfd144349acb888aabb2ac5a0",
       "version_major": 2,
       "version_minor": 0
      },
      "text/plain": [
       "  0%|          | 0/214 [00:00<?, ?it/s]"
      ]
     },
     "metadata": {},
     "output_type": "display_data"
    },
    {
     "name": "stdout",
     "output_type": "stream",
     "text": [
      "6 validation loss: 1.4457541821158935\n",
      "6 validation lev_mean: 2.5052400146573834\n"
     ]
    },
    {
     "data": {
      "application/vnd.jupyter.widget-view+json": {
       "model_id": "4c5ece6cc88944f592efa8cda4e27b09",
       "version_major": 2,
       "version_minor": 0
      },
      "text/plain": [
       "  0%|          | 0/701 [00:00<?, ?it/s]"
      ]
     },
     "metadata": {},
     "output_type": "display_data"
    },
    {
     "name": "stdout",
     "output_type": "stream",
     "text": [
      "7 train: 1.3285074499296223\n"
     ]
    },
    {
     "data": {
      "application/vnd.jupyter.widget-view+json": {
       "model_id": "53e54570c9244355acf840f32af9012c",
       "version_major": 2,
       "version_minor": 0
      },
      "text/plain": [
       "  0%|          | 0/214 [00:00<?, ?it/s]"
      ]
     },
     "metadata": {},
     "output_type": "display_data"
    },
    {
     "name": "stdout",
     "output_type": "stream",
     "text": [
      "7 validation loss: 1.5295735681168388\n",
      "7 validation lev_mean: 2.510406742396482\n"
     ]
    },
    {
     "data": {
      "application/vnd.jupyter.widget-view+json": {
       "model_id": "997a78f334e6432dbace5a89c7af50f5",
       "version_major": 2,
       "version_minor": 0
      },
      "text/plain": [
       "  0%|          | 0/701 [00:00<?, ?it/s]"
      ]
     },
     "metadata": {},
     "output_type": "display_data"
    },
    {
     "name": "stdout",
     "output_type": "stream",
     "text": [
      "8 train: 1.3012003893518924\n"
     ]
    },
    {
     "data": {
      "application/vnd.jupyter.widget-view+json": {
       "model_id": "fbb4020b4e814222a6acf54ffc450d5f",
       "version_major": 2,
       "version_minor": 0
      },
      "text/plain": [
       "  0%|          | 0/214 [00:00<?, ?it/s]"
      ]
     },
     "metadata": {},
     "output_type": "display_data"
    },
    {
     "name": "stdout",
     "output_type": "stream",
     "text": [
      "8 validation loss: 1.355739554790693\n",
      "8 validation lev_mean: 2.352620007328692\n"
     ]
    },
    {
     "data": {
      "application/vnd.jupyter.widget-view+json": {
       "model_id": "ebb82ec26c6d45b49a2bef45a4f73c36",
       "version_major": 2,
       "version_minor": 0
      },
      "text/plain": [
       "  0%|          | 0/701 [00:00<?, ?it/s]"
      ]
     },
     "metadata": {},
     "output_type": "display_data"
    },
    {
     "name": "stdout",
     "output_type": "stream",
     "text": [
      "9 train: 1.2738356702507987\n"
     ]
    },
    {
     "data": {
      "application/vnd.jupyter.widget-view+json": {
       "model_id": "941c10e4d14a41ed9faddd0d2cee33d6",
       "version_major": 2,
       "version_minor": 0
      },
      "text/plain": [
       "  0%|          | 0/214 [00:00<?, ?it/s]"
      ]
     },
     "metadata": {},
     "output_type": "display_data"
    },
    {
     "name": "stdout",
     "output_type": "stream",
     "text": [
      "9 validation loss: 1.3275629839050436\n",
      "9 validation lev_mean: 2.254525467204104\n"
     ]
    },
    {
     "data": {
      "application/vnd.jupyter.widget-view+json": {
       "model_id": "253ffc859c1a46bf9c972bc458648042",
       "version_major": 2,
       "version_minor": 0
      },
      "text/plain": [
       "  0%|          | 0/701 [00:00<?, ?it/s]"
      ]
     },
     "metadata": {},
     "output_type": "display_data"
    },
    {
     "name": "stdout",
     "output_type": "stream",
     "text": [
      "10 train: 1.254821318872645\n"
     ]
    },
    {
     "data": {
      "application/vnd.jupyter.widget-view+json": {
       "model_id": "6798134d501f400eb12f44d3d7a0c87a",
       "version_major": 2,
       "version_minor": 0
      },
      "text/plain": [
       "  0%|          | 0/214 [00:00<?, ?it/s]"
      ]
     },
     "metadata": {},
     "output_type": "display_data"
    },
    {
     "name": "stdout",
     "output_type": "stream",
     "text": [
      "10 validation loss: 1.3837968133320317\n",
      "10 validation lev_mean: 2.307621839501649\n"
     ]
    },
    {
     "data": {
      "application/vnd.jupyter.widget-view+json": {
       "model_id": "cb12c70ed1a64eb9b35b263de6c02bcb",
       "version_major": 2,
       "version_minor": 0
      },
      "text/plain": [
       "  0%|          | 0/701 [00:00<?, ?it/s]"
      ]
     },
     "metadata": {},
     "output_type": "display_data"
    },
    {
     "name": "stdout",
     "output_type": "stream",
     "text": [
      "11 train: 1.2416503225345585\n"
     ]
    },
    {
     "data": {
      "application/vnd.jupyter.widget-view+json": {
       "model_id": "1263129ae9394d30bf25aaa9cbeb91e7",
       "version_major": 2,
       "version_minor": 0
      },
      "text/plain": [
       "  0%|          | 0/214 [00:00<?, ?it/s]"
      ]
     },
     "metadata": {},
     "output_type": "display_data"
    },
    {
     "name": "stdout",
     "output_type": "stream",
     "text": [
      "11 validation loss: 1.4118834706110375\n",
      "11 validation lev_mean: 2.367387321363137\n"
     ]
    },
    {
     "data": {
      "application/vnd.jupyter.widget-view+json": {
       "model_id": "6dec580b8cc441da98d73db2b255c186",
       "version_major": 2,
       "version_minor": 0
      },
      "text/plain": [
       "  0%|          | 0/701 [00:00<?, ?it/s]"
      ]
     },
     "metadata": {},
     "output_type": "display_data"
    },
    {
     "name": "stdout",
     "output_type": "stream",
     "text": [
      "12 train: 1.227096047789156\n"
     ]
    },
    {
     "data": {
      "application/vnd.jupyter.widget-view+json": {
       "model_id": "f8327f1c25f84b6ea64a04472920fc3b",
       "version_major": 2,
       "version_minor": 0
      },
      "text/plain": [
       "  0%|          | 0/214 [00:00<?, ?it/s]"
      ]
     },
     "metadata": {},
     "output_type": "display_data"
    },
    {
     "name": "stdout",
     "output_type": "stream",
     "text": [
      "12 validation loss: 1.3091536857814432\n",
      "12 validation lev_mean: 2.2225723708318066\n"
     ]
    },
    {
     "data": {
      "application/vnd.jupyter.widget-view+json": {
       "model_id": "9b23d8bd0a4b4cc1a53bb47a88e76dba",
       "version_major": 2,
       "version_minor": 0
      },
      "text/plain": [
       "  0%|          | 0/701 [00:00<?, ?it/s]"
      ]
     },
     "metadata": {},
     "output_type": "display_data"
    },
    {
     "name": "stdout",
     "output_type": "stream",
     "text": [
      "13 train: 1.214529261609457\n"
     ]
    },
    {
     "data": {
      "application/vnd.jupyter.widget-view+json": {
       "model_id": "3c9f111035344652b32a477483fb5cae",
       "version_major": 2,
       "version_minor": 0
      },
      "text/plain": [
       "  0%|          | 0/214 [00:00<?, ?it/s]"
      ]
     },
     "metadata": {},
     "output_type": "display_data"
    },
    {
     "name": "stdout",
     "output_type": "stream",
     "text": [
      "13 validation loss: 1.3267877639454102\n",
      "13 validation lev_mean: 2.2832172957127153\n"
     ]
    },
    {
     "data": {
      "application/vnd.jupyter.widget-view+json": {
       "model_id": "a9c0ba4403024d2486f225c1c297f980",
       "version_major": 2,
       "version_minor": 0
      },
      "text/plain": [
       "  0%|          | 0/701 [00:00<?, ?it/s]"
      ]
     },
     "metadata": {},
     "output_type": "display_data"
    },
    {
     "name": "stdout",
     "output_type": "stream",
     "text": [
      "14 train: 1.2026852619290862\n"
     ]
    },
    {
     "data": {
      "application/vnd.jupyter.widget-view+json": {
       "model_id": "f6b813ac46ca464abfe745a63669b16d",
       "version_major": 2,
       "version_minor": 0
      },
      "text/plain": [
       "  0%|          | 0/214 [00:00<?, ?it/s]"
      ]
     },
     "metadata": {},
     "output_type": "display_data"
    },
    {
     "name": "stdout",
     "output_type": "stream",
     "text": [
      "14 validation loss: 1.254606421584281\n",
      "14 validation lev_mean: 2.1804690362770245\n"
     ]
    },
    {
     "data": {
      "application/vnd.jupyter.widget-view+json": {
       "model_id": "430ef278f66243619ec20afb6c2f7857",
       "version_major": 2,
       "version_minor": 0
      },
      "text/plain": [
       "  0%|          | 0/701 [00:00<?, ?it/s]"
      ]
     },
     "metadata": {},
     "output_type": "display_data"
    },
    {
     "name": "stdout",
     "output_type": "stream",
     "text": [
      "15 train: 1.1953368925844212\n"
     ]
    },
    {
     "data": {
      "application/vnd.jupyter.widget-view+json": {
       "model_id": "12a20143219e4c9da9290df1cb70b1af",
       "version_major": 2,
       "version_minor": 0
      },
      "text/plain": [
       "  0%|          | 0/214 [00:00<?, ?it/s]"
      ]
     },
     "metadata": {},
     "output_type": "display_data"
    },
    {
     "name": "stdout",
     "output_type": "stream",
     "text": [
      "15 validation loss: 1.2725724792369058\n",
      "15 validation lev_mean: 2.1895566141443754\n"
     ]
    },
    {
     "data": {
      "application/vnd.jupyter.widget-view+json": {
       "model_id": "734c42c0087649d69a890f6cd7ea41fc",
       "version_major": 2,
       "version_minor": 0
      },
      "text/plain": [
       "  0%|          | 0/701 [00:00<?, ?it/s]"
      ]
     },
     "metadata": {},
     "output_type": "display_data"
    },
    {
     "name": "stdout",
     "output_type": "stream",
     "text": [
      "16 train: 1.187378053573331\n"
     ]
    },
    {
     "data": {
      "application/vnd.jupyter.widget-view+json": {
       "model_id": "6ebe334238114c0a8e797f886847b0e2",
       "version_major": 2,
       "version_minor": 0
      },
      "text/plain": [
       "  0%|          | 0/214 [00:00<?, ?it/s]"
      ]
     },
     "metadata": {},
     "output_type": "display_data"
    },
    {
     "name": "stdout",
     "output_type": "stream",
     "text": [
      "16 validation loss: 1.255258376353255\n",
      "16 validation lev_mean: 2.183730304140711\n"
     ]
    },
    {
     "data": {
      "application/vnd.jupyter.widget-view+json": {
       "model_id": "a4df509485ba4fac837ac31e90430b59",
       "version_major": 2,
       "version_minor": 0
      },
      "text/plain": [
       "  0%|          | 0/701 [00:00<?, ?it/s]"
      ]
     },
     "metadata": {},
     "output_type": "display_data"
    },
    {
     "name": "stdout",
     "output_type": "stream",
     "text": [
      "17 train: 1.1788033485072487\n"
     ]
    },
    {
     "data": {
      "application/vnd.jupyter.widget-view+json": {
       "model_id": "45c354191c83407ea1eddc23bd14176b",
       "version_major": 2,
       "version_minor": 0
      },
      "text/plain": [
       "  0%|          | 0/214 [00:00<?, ?it/s]"
      ]
     },
     "metadata": {},
     "output_type": "display_data"
    },
    {
     "name": "stdout",
     "output_type": "stream",
     "text": [
      "17 validation loss: 1.291383681453277\n",
      "17 validation lev_mean: 2.211689263466471\n"
     ]
    },
    {
     "data": {
      "application/vnd.jupyter.widget-view+json": {
       "model_id": "a12be97ec8304772a67987205eaf6e4a",
       "version_major": 2,
       "version_minor": 0
      },
      "text/plain": [
       "  0%|          | 0/701 [00:00<?, ?it/s]"
      ]
     },
     "metadata": {},
     "output_type": "display_data"
    },
    {
     "name": "stdout",
     "output_type": "stream",
     "text": [
      "18 train: 1.1695435361753346\n"
     ]
    },
    {
     "data": {
      "application/vnd.jupyter.widget-view+json": {
       "model_id": "ea70c87e447641ec821e13ae98ac0aaf",
       "version_major": 2,
       "version_minor": 0
      },
      "text/plain": [
       "  0%|          | 0/214 [00:00<?, ?it/s]"
      ]
     },
     "metadata": {},
     "output_type": "display_data"
    },
    {
     "name": "stdout",
     "output_type": "stream",
     "text": [
      "18 validation loss: 1.2555866071553987\n",
      "18 validation lev_mean: 2.1654085745694394\n"
     ]
    },
    {
     "data": {
      "application/vnd.jupyter.widget-view+json": {
       "model_id": "a35e92b5736a415f9ab1b4a508920e57",
       "version_major": 2,
       "version_minor": 0
      },
      "text/plain": [
       "  0%|          | 0/701 [00:00<?, ?it/s]"
      ]
     },
     "metadata": {},
     "output_type": "display_data"
    },
    {
     "name": "stdout",
     "output_type": "stream",
     "text": [
      "19 train: 1.163644626715384\n"
     ]
    },
    {
     "data": {
      "application/vnd.jupyter.widget-view+json": {
       "model_id": "4a6754370b194750b988d9da180182fe",
       "version_major": 2,
       "version_minor": 0
      },
      "text/plain": [
       "  0%|          | 0/214 [00:00<?, ?it/s]"
      ]
     },
     "metadata": {},
     "output_type": "display_data"
    },
    {
     "name": "stdout",
     "output_type": "stream",
     "text": [
      "19 validation loss: 1.2549786910275433\n",
      "19 validation lev_mean: 2.1547086844998167\n"
     ]
    },
    {
     "data": {
      "application/vnd.jupyter.widget-view+json": {
       "model_id": "31fd340366e94e51b8ebc1428a601e36",
       "version_major": 2,
       "version_minor": 0
      },
      "text/plain": [
       "  0%|          | 0/701 [00:00<?, ?it/s]"
      ]
     },
     "metadata": {},
     "output_type": "display_data"
    },
    {
     "name": "stdout",
     "output_type": "stream",
     "text": [
      "20 train: 1.155109145671937\n"
     ]
    },
    {
     "data": {
      "application/vnd.jupyter.widget-view+json": {
       "model_id": "a7823a88dde543ccb42ce8dcf3f1a533",
       "version_major": 2,
       "version_minor": 0
      },
      "text/plain": [
       "  0%|          | 0/214 [00:00<?, ?it/s]"
      ]
     },
     "metadata": {},
     "output_type": "display_data"
    },
    {
     "name": "stdout",
     "output_type": "stream",
     "text": [
      "20 validation loss: 1.2366383070143583\n",
      "20 validation lev_mean: 2.127336020520337\n"
     ]
    },
    {
     "data": {
      "application/vnd.jupyter.widget-view+json": {
       "model_id": "48172cb849a1469ea15a0808abe079af",
       "version_major": 2,
       "version_minor": 0
      },
      "text/plain": [
       "  0%|          | 0/701 [00:00<?, ?it/s]"
      ]
     },
     "metadata": {},
     "output_type": "display_data"
    },
    {
     "name": "stdout",
     "output_type": "stream",
     "text": [
      "21 train: 1.1496394501092941\n"
     ]
    },
    {
     "data": {
      "application/vnd.jupyter.widget-view+json": {
       "model_id": "25786c0891ef43b5a40a834610e91e2d",
       "version_major": 2,
       "version_minor": 0
      },
      "text/plain": [
       "  0%|          | 0/214 [00:00<?, ?it/s]"
      ]
     },
     "metadata": {},
     "output_type": "display_data"
    },
    {
     "name": "stdout",
     "output_type": "stream",
     "text": [
      "21 validation loss: 1.1988805902895527\n",
      "21 validation lev_mean: 2.043862220593624\n"
     ]
    },
    {
     "data": {
      "application/vnd.jupyter.widget-view+json": {
       "model_id": "987b8ab790244911afa123a1ab8b992a",
       "version_major": 2,
       "version_minor": 0
      },
      "text/plain": [
       "  0%|          | 0/701 [00:00<?, ?it/s]"
      ]
     },
     "metadata": {},
     "output_type": "display_data"
    },
    {
     "name": "stdout",
     "output_type": "stream",
     "text": [
      "22 train: 1.141990748349678\n"
     ]
    },
    {
     "data": {
      "application/vnd.jupyter.widget-view+json": {
       "model_id": "eefa8394930b44108335bb6dde152088",
       "version_major": 2,
       "version_minor": 0
      },
      "text/plain": [
       "  0%|          | 0/214 [00:00<?, ?it/s]"
      ]
     },
     "metadata": {},
     "output_type": "display_data"
    },
    {
     "name": "stdout",
     "output_type": "stream",
     "text": [
      "22 validation loss: 1.2876281412405388\n",
      "22 validation lev_mean: 2.1074386222059363\n"
     ]
    },
    {
     "data": {
      "application/vnd.jupyter.widget-view+json": {
       "model_id": "82e389179f42432e90bf0f17e2718b27",
       "version_major": 2,
       "version_minor": 0
      },
      "text/plain": [
       "  0%|          | 0/701 [00:00<?, ?it/s]"
      ]
     },
     "metadata": {},
     "output_type": "display_data"
    },
    {
     "name": "stdout",
     "output_type": "stream",
     "text": [
      "23 train: 1.1387957530082888\n"
     ]
    },
    {
     "data": {
      "application/vnd.jupyter.widget-view+json": {
       "model_id": "7f429567026e4318848028f0eb86a39c",
       "version_major": 2,
       "version_minor": 0
      },
      "text/plain": [
       "  0%|          | 0/214 [00:00<?, ?it/s]"
      ]
     },
     "metadata": {},
     "output_type": "display_data"
    },
    {
     "name": "stdout",
     "output_type": "stream",
     "text": [
      "23 validation loss: 1.2348770507585223\n",
      "23 validation lev_mean: 2.092378160498351\n"
     ]
    },
    {
     "data": {
      "application/vnd.jupyter.widget-view+json": {
       "model_id": "17b140c114ad4e1fa8536929f9a37446",
       "version_major": 2,
       "version_minor": 0
      },
      "text/plain": [
       "  0%|          | 0/701 [00:00<?, ?it/s]"
      ]
     },
     "metadata": {},
     "output_type": "display_data"
    },
    {
     "name": "stdout",
     "output_type": "stream",
     "text": [
      "24 train: 1.1336558352353399\n"
     ]
    },
    {
     "data": {
      "application/vnd.jupyter.widget-view+json": {
       "model_id": "f65752eba02c4a76949b24b35cad2232",
       "version_major": 2,
       "version_minor": 0
      },
      "text/plain": [
       "  0%|          | 0/214 [00:00<?, ?it/s]"
      ]
     },
     "metadata": {},
     "output_type": "display_data"
    },
    {
     "name": "stdout",
     "output_type": "stream",
     "text": [
      "24 validation loss: 1.2473944027290167\n",
      "24 validation lev_mean: 2.1419934041773545\n"
     ]
    },
    {
     "data": {
      "application/vnd.jupyter.widget-view+json": {
       "model_id": "0811eaf49f94489aad644a1fdab32061",
       "version_major": 2,
       "version_minor": 0
      },
      "text/plain": [
       "  0%|          | 0/701 [00:00<?, ?it/s]"
      ]
     },
     "metadata": {},
     "output_type": "display_data"
    },
    {
     "name": "stdout",
     "output_type": "stream",
     "text": [
      "25 train: 1.129734708902329\n"
     ]
    },
    {
     "data": {
      "application/vnd.jupyter.widget-view+json": {
       "model_id": "95c8a4bb384f41fc8ffd275d511f0bda",
       "version_major": 2,
       "version_minor": 0
      },
      "text/plain": [
       "  0%|          | 0/214 [00:00<?, ?it/s]"
      ]
     },
     "metadata": {},
     "output_type": "display_data"
    },
    {
     "name": "stdout",
     "output_type": "stream",
     "text": [
      "25 validation loss: 1.282058832801391\n",
      "25 validation lev_mean: 2.1854525467204104\n"
     ]
    },
    {
     "data": {
      "application/vnd.jupyter.widget-view+json": {
       "model_id": "74023296957b4e3cb4f0402f84d8d6d4",
       "version_major": 2,
       "version_minor": 0
      },
      "text/plain": [
       "  0%|          | 0/701 [00:00<?, ?it/s]"
      ]
     },
     "metadata": {},
     "output_type": "display_data"
    },
    {
     "name": "stdout",
     "output_type": "stream",
     "text": [
      "26 train: 1.122802787602543\n"
     ]
    },
    {
     "data": {
      "application/vnd.jupyter.widget-view+json": {
       "model_id": "1f99dc3fb758427497ab038178d75483",
       "version_major": 2,
       "version_minor": 0
      },
      "text/plain": [
       "  0%|          | 0/214 [00:00<?, ?it/s]"
      ]
     },
     "metadata": {},
     "output_type": "display_data"
    },
    {
     "name": "stdout",
     "output_type": "stream",
     "text": [
      "26 validation loss: 1.254916996042305\n",
      "26 validation lev_mean: 2.1178453646024185\n"
     ]
    },
    {
     "data": {
      "application/vnd.jupyter.widget-view+json": {
       "model_id": "c4f638283b2c4e3dbdbc2e4100238146",
       "version_major": 2,
       "version_minor": 0
      },
      "text/plain": [
       "  0%|          | 0/701 [00:00<?, ?it/s]"
      ]
     },
     "metadata": {},
     "output_type": "display_data"
    },
    {
     "name": "stdout",
     "output_type": "stream",
     "text": [
      "27 train: 1.1171032714095503\n"
     ]
    },
    {
     "data": {
      "application/vnd.jupyter.widget-view+json": {
       "model_id": "a84ed18433664de1a0f1a07dc498a7d2",
       "version_major": 2,
       "version_minor": 0
      },
      "text/plain": [
       "  0%|          | 0/214 [00:00<?, ?it/s]"
      ]
     },
     "metadata": {},
     "output_type": "display_data"
    },
    {
     "name": "stdout",
     "output_type": "stream",
     "text": [
      "27 validation loss: 1.2626434536737816\n",
      "27 validation lev_mean: 2.088384023451814\n"
     ]
    },
    {
     "data": {
      "application/vnd.jupyter.widget-view+json": {
       "model_id": "58408716087343009676221bf8d0a2bf",
       "version_major": 2,
       "version_minor": 0
      },
      "text/plain": [
       "  0%|          | 0/701 [00:00<?, ?it/s]"
      ]
     },
     "metadata": {},
     "output_type": "display_data"
    },
    {
     "name": "stdout",
     "output_type": "stream",
     "text": [
      "28 train: 1.1203374753835027\n"
     ]
    },
    {
     "data": {
      "application/vnd.jupyter.widget-view+json": {
       "model_id": "4f4deb939fed46bbad8144a86ade1413",
       "version_major": 2,
       "version_minor": 0
      },
      "text/plain": [
       "  0%|          | 0/214 [00:00<?, ?it/s]"
      ]
     },
     "metadata": {},
     "output_type": "display_data"
    },
    {
     "name": "stdout",
     "output_type": "stream",
     "text": [
      "28 validation loss: 1.244705117194452\n",
      "28 validation lev_mean: 2.1115060461707587\n"
     ]
    },
    {
     "data": {
      "application/vnd.jupyter.widget-view+json": {
       "model_id": "20ddabc0cb7d420bb7d2ef165f5966d3",
       "version_major": 2,
       "version_minor": 0
      },
      "text/plain": [
       "  0%|          | 0/701 [00:00<?, ?it/s]"
      ]
     },
     "metadata": {},
     "output_type": "display_data"
    },
    {
     "name": "stdout",
     "output_type": "stream",
     "text": [
      "29 train: 1.121836400661251\n"
     ]
    },
    {
     "data": {
      "application/vnd.jupyter.widget-view+json": {
       "model_id": "3873f6d6173944cba711f50bbc36aa5e",
       "version_major": 2,
       "version_minor": 0
      },
      "text/plain": [
       "  0%|          | 0/214 [00:00<?, ?it/s]"
      ]
     },
     "metadata": {},
     "output_type": "display_data"
    },
    {
     "name": "stdout",
     "output_type": "stream",
     "text": [
      "29 validation loss: 1.3489403529701947\n",
      "29 validation lev_mean: 2.2366801026016856\n"
     ]
    },
    {
     "data": {
      "application/vnd.jupyter.widget-view+json": {
       "model_id": "8ec27e49a74048faa9ec0c2d8bf30363",
       "version_major": 2,
       "version_minor": 0
      },
      "text/plain": [
       "  0%|          | 0/701 [00:00<?, ?it/s]"
      ]
     },
     "metadata": {},
     "output_type": "display_data"
    },
    {
     "name": "stdout",
     "output_type": "stream",
     "text": [
      "30 train: 1.1186563473795348\n"
     ]
    },
    {
     "data": {
      "application/vnd.jupyter.widget-view+json": {
       "model_id": "ba77f8573eaf4d90ab282250694d843e",
       "version_major": 2,
       "version_minor": 0
      },
      "text/plain": [
       "  0%|          | 0/214 [00:00<?, ?it/s]"
      ]
     },
     "metadata": {},
     "output_type": "display_data"
    },
    {
     "name": "stdout",
     "output_type": "stream",
     "text": [
      "30 validation loss: 1.2013972992094877\n",
      "30 validation lev_mean: 2.0462806888970317\n"
     ]
    },
    {
     "data": {
      "application/vnd.jupyter.widget-view+json": {
       "model_id": "9c45046ebbcb4d288b7386e872409841",
       "version_major": 2,
       "version_minor": 0
      },
      "text/plain": [
       "  0%|          | 0/701 [00:00<?, ?it/s]"
      ]
     },
     "metadata": {},
     "output_type": "display_data"
    },
    {
     "name": "stdout",
     "output_type": "stream",
     "text": [
      "31 train: 1.1151390896204025\n"
     ]
    },
    {
     "data": {
      "application/vnd.jupyter.widget-view+json": {
       "model_id": "024160e039434183bb399834d9a40ccc",
       "version_major": 2,
       "version_minor": 0
      },
      "text/plain": [
       "  0%|          | 0/214 [00:00<?, ?it/s]"
      ]
     },
     "metadata": {},
     "output_type": "display_data"
    },
    {
     "name": "stdout",
     "output_type": "stream",
     "text": [
      "31 validation loss: 1.1957908289454808\n",
      "31 validation lev_mean: 2.029497984609747\n"
     ]
    },
    {
     "data": {
      "application/vnd.jupyter.widget-view+json": {
       "model_id": "3b9dc96b34044e8d974c15ba88ea154d",
       "version_major": 2,
       "version_minor": 0
      },
      "text/plain": [
       "  0%|          | 0/701 [00:00<?, ?it/s]"
      ]
     },
     "metadata": {},
     "output_type": "display_data"
    },
    {
     "name": "stdout",
     "output_type": "stream",
     "text": [
      "32 train: 1.1138859244964263\n"
     ]
    },
    {
     "data": {
      "application/vnd.jupyter.widget-view+json": {
       "model_id": "efe298e99ee04a749fc7a53fe88cc011",
       "version_major": 2,
       "version_minor": 0
      },
      "text/plain": [
       "  0%|          | 0/214 [00:00<?, ?it/s]"
      ]
     },
     "metadata": {},
     "output_type": "display_data"
    },
    {
     "name": "stdout",
     "output_type": "stream",
     "text": [
      "32 validation loss: 1.225605231579219\n",
      "32 validation lev_mean: 2.120227189446684\n"
     ]
    },
    {
     "data": {
      "application/vnd.jupyter.widget-view+json": {
       "model_id": "f700f8043c0b455995ec2399dcfbcb4a",
       "version_major": 2,
       "version_minor": 0
      },
      "text/plain": [
       "  0%|          | 0/701 [00:00<?, ?it/s]"
      ]
     },
     "metadata": {},
     "output_type": "display_data"
    },
    {
     "name": "stdout",
     "output_type": "stream",
     "text": [
      "33 train: 1.1136676299248884\n"
     ]
    },
    {
     "data": {
      "application/vnd.jupyter.widget-view+json": {
       "model_id": "b7cb7c8d34d84d6b9d4a20ad015c14ec",
       "version_major": 2,
       "version_minor": 0
      },
      "text/plain": [
       "  0%|          | 0/214 [00:00<?, ?it/s]"
      ]
     },
     "metadata": {},
     "output_type": "display_data"
    },
    {
     "name": "stdout",
     "output_type": "stream",
     "text": [
      "33 validation loss: 1.2672448166619952\n",
      "33 validation lev_mean: 2.140234518138512\n"
     ]
    },
    {
     "data": {
      "application/vnd.jupyter.widget-view+json": {
       "model_id": "ee04261d34be4158814baddf37aa3762",
       "version_major": 2,
       "version_minor": 0
      },
      "text/plain": [
       "  0%|          | 0/701 [00:00<?, ?it/s]"
      ]
     },
     "metadata": {},
     "output_type": "display_data"
    },
    {
     "name": "stdout",
     "output_type": "stream",
     "text": [
      "34 train: 1.1113605283296397\n"
     ]
    },
    {
     "data": {
      "application/vnd.jupyter.widget-view+json": {
       "model_id": "5b5321c9d17441f8bd1c5eeee874968e",
       "version_major": 2,
       "version_minor": 0
      },
      "text/plain": [
       "  0%|          | 0/214 [00:00<?, ?it/s]"
      ]
     },
     "metadata": {},
     "output_type": "display_data"
    },
    {
     "name": "stdout",
     "output_type": "stream",
     "text": [
      "34 validation loss: 1.2003675557185556\n",
      "34 validation lev_mean: 2.0480395749358737\n"
     ]
    },
    {
     "data": {
      "application/vnd.jupyter.widget-view+json": {
       "model_id": "ff51327b0f7849c29a2fb5dbe058828f",
       "version_major": 2,
       "version_minor": 0
      },
      "text/plain": [
       "  0%|          | 0/701 [00:00<?, ?it/s]"
      ]
     },
     "metadata": {},
     "output_type": "display_data"
    },
    {
     "name": "stdout",
     "output_type": "stream",
     "text": [
      "35 train: 1.1119931247537045\n"
     ]
    },
    {
     "data": {
      "application/vnd.jupyter.widget-view+json": {
       "model_id": "439207f486c145b291d823fb2a0708ae",
       "version_major": 2,
       "version_minor": 0
      },
      "text/plain": [
       "  0%|          | 0/214 [00:00<?, ?it/s]"
      ]
     },
     "metadata": {},
     "output_type": "display_data"
    },
    {
     "name": "stdout",
     "output_type": "stream",
     "text": [
      "35 validation loss: 1.2429348918322092\n",
      "35 validation lev_mean: 2.096958592891169\n"
     ]
    },
    {
     "data": {
      "application/vnd.jupyter.widget-view+json": {
       "model_id": "c41943f528044e428a6932418e6d3786",
       "version_major": 2,
       "version_minor": 0
      },
      "text/plain": [
       "  0%|          | 0/701 [00:00<?, ?it/s]"
      ]
     },
     "metadata": {},
     "output_type": "display_data"
    },
    {
     "name": "stdout",
     "output_type": "stream",
     "text": [
      "36 train: 1.1218506125852827\n"
     ]
    },
    {
     "data": {
      "application/vnd.jupyter.widget-view+json": {
       "model_id": "0968fa575e3648e58df9ef5bee299dcc",
       "version_major": 2,
       "version_minor": 0
      },
      "text/plain": [
       "  0%|          | 0/214 [00:00<?, ?it/s]"
      ]
     },
     "metadata": {},
     "output_type": "display_data"
    },
    {
     "name": "stdout",
     "output_type": "stream",
     "text": [
      "36 validation loss: 1.2430229855475026\n",
      "36 validation lev_mean: 2.152143642359839\n"
     ]
    },
    {
     "data": {
      "application/vnd.jupyter.widget-view+json": {
       "model_id": "989868eec2fa458a821ff7da68419b22",
       "version_major": 2,
       "version_minor": 0
      },
      "text/plain": [
       "  0%|          | 0/701 [00:00<?, ?it/s]"
      ]
     },
     "metadata": {},
     "output_type": "display_data"
    },
    {
     "name": "stdout",
     "output_type": "stream",
     "text": [
      "37 train: 1.1195935050873205\n"
     ]
    },
    {
     "data": {
      "application/vnd.jupyter.widget-view+json": {
       "model_id": "9007be046a67420781d34d9ad29f9e62",
       "version_major": 2,
       "version_minor": 0
      },
      "text/plain": [
       "  0%|          | 0/214 [00:00<?, ?it/s]"
      ]
     },
     "metadata": {},
     "output_type": "display_data"
    },
    {
     "name": "stdout",
     "output_type": "stream",
     "text": [
      "37 validation loss: 1.2010901155315827\n",
      "37 validation lev_mean: 2.063759618908025\n"
     ]
    },
    {
     "data": {
      "application/vnd.jupyter.widget-view+json": {
       "model_id": "9283a641bfba495e9a92b4ae813f5096",
       "version_major": 2,
       "version_minor": 0
      },
      "text/plain": [
       "  0%|          | 0/701 [00:00<?, ?it/s]"
      ]
     },
     "metadata": {},
     "output_type": "display_data"
    },
    {
     "name": "stdout",
     "output_type": "stream",
     "text": [
      "38 train: 1.1179141710046014\n"
     ]
    },
    {
     "data": {
      "application/vnd.jupyter.widget-view+json": {
       "model_id": "37d4f202ef484b3db52664adb118c5b0",
       "version_major": 2,
       "version_minor": 0
      },
      "text/plain": [
       "  0%|          | 0/214 [00:00<?, ?it/s]"
      ]
     },
     "metadata": {},
     "output_type": "display_data"
    },
    {
     "name": "stdout",
     "output_type": "stream",
     "text": [
      "38 validation loss: 1.2048839311176371\n",
      "38 validation lev_mean: 2.0539391718578233\n"
     ]
    },
    {
     "data": {
      "application/vnd.jupyter.widget-view+json": {
       "model_id": "61af0a85997f41f6bfe266590ae7b31e",
       "version_major": 2,
       "version_minor": 0
      },
      "text/plain": [
       "  0%|          | 0/701 [00:00<?, ?it/s]"
      ]
     },
     "metadata": {},
     "output_type": "display_data"
    },
    {
     "name": "stdout",
     "output_type": "stream",
     "text": [
      "39 train: 1.1141623984730022\n"
     ]
    },
    {
     "data": {
      "application/vnd.jupyter.widget-view+json": {
       "model_id": "dc62f19cad094065a99211991099efab",
       "version_major": 2,
       "version_minor": 0
      },
      "text/plain": [
       "  0%|          | 0/214 [00:00<?, ?it/s]"
      ]
     },
     "metadata": {},
     "output_type": "display_data"
    },
    {
     "name": "stdout",
     "output_type": "stream",
     "text": [
      "39 validation loss: 1.2468980177540645\n",
      "39 validation lev_mean: 2.109783803591059\n"
     ]
    },
    {
     "data": {
      "application/vnd.jupyter.widget-view+json": {
       "model_id": "29d7da1f574e43eea842bfd5a2ccc4d6",
       "version_major": 2,
       "version_minor": 0
      },
      "text/plain": [
       "  0%|          | 0/701 [00:00<?, ?it/s]"
      ]
     },
     "metadata": {},
     "output_type": "display_data"
    },
    {
     "name": "stdout",
     "output_type": "stream",
     "text": [
      "40 train: 1.1173444552700462\n"
     ]
    },
    {
     "data": {
      "application/vnd.jupyter.widget-view+json": {
       "model_id": "1f98854178144fcbb2c233cc9b0a3dac",
       "version_major": 2,
       "version_minor": 0
      },
      "text/plain": [
       "  0%|          | 0/214 [00:00<?, ?it/s]"
      ]
     },
     "metadata": {},
     "output_type": "display_data"
    },
    {
     "name": "stdout",
     "output_type": "stream",
     "text": [
      "40 validation loss: 1.1738982529283684\n",
      "40 validation lev_mean: 2.0215829974349577\n"
     ]
    },
    {
     "data": {
      "application/vnd.jupyter.widget-view+json": {
       "model_id": "ae8b3e32f64b46a2af4673ecf157ab31",
       "version_major": 2,
       "version_minor": 0
      },
      "text/plain": [
       "  0%|          | 0/701 [00:00<?, ?it/s]"
      ]
     },
     "metadata": {},
     "output_type": "display_data"
    },
    {
     "name": "stdout",
     "output_type": "stream",
     "text": [
      "41 train: 1.1136611429668868\n"
     ]
    },
    {
     "data": {
      "application/vnd.jupyter.widget-view+json": {
       "model_id": "8297370e7b0944fb8c87ca563c5aeb8e",
       "version_major": 2,
       "version_minor": 0
      },
      "text/plain": [
       "  0%|          | 0/214 [00:00<?, ?it/s]"
      ]
     },
     "metadata": {},
     "output_type": "display_data"
    },
    {
     "name": "stdout",
     "output_type": "stream",
     "text": [
      "41 validation loss: 1.250601591907929\n",
      "41 validation lev_mean: 2.1042872847196774\n"
     ]
    },
    {
     "data": {
      "application/vnd.jupyter.widget-view+json": {
       "model_id": "00a985fa776c41fab780483c541ed600",
       "version_major": 2,
       "version_minor": 0
      },
      "text/plain": [
       "  0%|          | 0/701 [00:00<?, ?it/s]"
      ]
     },
     "metadata": {},
     "output_type": "display_data"
    },
    {
     "name": "stderr",
     "output_type": "stream",
     "text": [
      "ERROR:root:Internal Python error in the inspect module.\n",
      "Below is the traceback from this internal error.\n",
      "\n"
     ]
    },
    {
     "name": "stdout",
     "output_type": "stream",
     "text": [
      "Traceback (most recent call last):\n",
      "  File \"/home/denis/anaconda3/lib/python3.7/site-packages/IPython/core/interactiveshell.py\", line 3418, in run_code\n",
      "    exec(code_obj, self.user_global_ns, self.user_ns)\n",
      "  File \"<ipython-input-32-5dfc63722a79>\", line 28, in <module>\n",
      "    loss.backward()\n",
      "  File \"/home/denis/anaconda3/lib/python3.7/site-packages/torch/_tensor.py\", line 396, in backward\n",
      "    torch.autograd.backward(self, gradient, retain_graph, create_graph, inputs=inputs)\n",
      "  File \"/home/denis/anaconda3/lib/python3.7/site-packages/torch/autograd/__init__.py\", line 175, in backward\n",
      "    allow_unreachable=True, accumulate_grad=True)  # Calls into the C++ engine to run the backward pass\n",
      "KeyboardInterrupt\n",
      "\n",
      "During handling of the above exception, another exception occurred:\n",
      "\n",
      "Traceback (most recent call last):\n",
      "  File \"/home/denis/anaconda3/lib/python3.7/site-packages/IPython/core/interactiveshell.py\", line 2045, in showtraceback\n",
      "    stb = value._render_traceback_()\n",
      "AttributeError: 'KeyboardInterrupt' object has no attribute '_render_traceback_'\n",
      "\n",
      "During handling of the above exception, another exception occurred:\n",
      "\n",
      "Traceback (most recent call last):\n",
      "  File \"/home/denis/anaconda3/lib/python3.7/site-packages/IPython/core/ultratb.py\", line 1170, in get_records\n",
      "    return _fixed_getinnerframes(etb, number_of_lines_of_context, tb_offset)\n",
      "  File \"/home/denis/anaconda3/lib/python3.7/site-packages/IPython/core/ultratb.py\", line 316, in wrapped\n",
      "    return f(*args, **kwargs)\n",
      "  File \"/home/denis/anaconda3/lib/python3.7/site-packages/IPython/core/ultratb.py\", line 350, in _fixed_getinnerframes\n",
      "    records = fix_frame_records_filenames(inspect.getinnerframes(etb, context))\n",
      "  File \"/home/denis/anaconda3/lib/python3.7/inspect.py\", line 1502, in getinnerframes\n",
      "    frameinfo = (tb.tb_frame,) + getframeinfo(tb, context)\n",
      "  File \"/home/denis/anaconda3/lib/python3.7/inspect.py\", line 1460, in getframeinfo\n",
      "    filename = getsourcefile(frame) or getfile(frame)\n",
      "  File \"/home/denis/anaconda3/lib/python3.7/inspect.py\", line 696, in getsourcefile\n",
      "    if getattr(getmodule(object, filename), '__loader__', None) is not None:\n",
      "  File \"/home/denis/anaconda3/lib/python3.7/inspect.py\", line 742, in getmodule\n",
      "    os.path.realpath(f)] = module.__name__\n",
      "  File \"/home/denis/anaconda3/lib/python3.7/posixpath.py\", line 395, in realpath\n",
      "    path, ok = _joinrealpath(filename[:0], filename, {})\n",
      "  File \"/home/denis/anaconda3/lib/python3.7/posixpath.py\", line 429, in _joinrealpath\n",
      "    if not islink(newpath):\n",
      "  File \"/home/denis/anaconda3/lib/python3.7/posixpath.py\", line 171, in islink\n",
      "    st = os.lstat(path)\n",
      "KeyboardInterrupt\n"
     ]
    },
    {
     "data": {
      "text/html": [
       "<pre style=\"white-space:pre;overflow-x:auto;line-height:normal;font-family:Menlo,'DejaVu Sans Mono',consolas,'Courier New',monospace\"><span style=\"color: #800000; text-decoration-color: #800000\">╭─────────────────────────────── </span><span style=\"color: #800000; text-decoration-color: #800000; font-weight: bold\">Traceback </span><span style=\"color: #bf7f7f; text-decoration-color: #bf7f7f; font-weight: bold\">(most recent call last)</span><span style=\"color: #800000; text-decoration-color: #800000\"> ────────────────────────────────╮</span>\n",
       "<span style=\"color: #800000; text-decoration-color: #800000\">│</span> <span style=\"color: #bfbf7f; text-decoration-color: #bfbf7f\">/home/denis/anaconda3/lib/python3.7/site-packages/IPython/core/</span><span style=\"color: #808000; text-decoration-color: #808000; font-weight: bold\">interactiveshell.py</span>:<span style=\"color: #0000ff; text-decoration-color: #0000ff\">3418</span> in       <span style=\"color: #800000; text-decoration-color: #800000\">│</span>\n",
       "<span style=\"color: #800000; text-decoration-color: #800000\">│</span> <span style=\"color: #00ff00; text-decoration-color: #00ff00\">run_code</span>                                                                                         <span style=\"color: #800000; text-decoration-color: #800000\">│</span>\n",
       "<span style=\"color: #800000; text-decoration-color: #800000\">│</span>                                                                                                  <span style=\"color: #800000; text-decoration-color: #800000\">│</span>\n",
       "<span style=\"color: #800000; text-decoration-color: #800000\">│</span>   <span style=\"color: #7f7f7f; text-decoration-color: #7f7f7f\">3415 │   │   │   │   </span><span style=\"color: #0000ff; text-decoration-color: #0000ff\">elif</span> async_ :                                                             <span style=\"color: #800000; text-decoration-color: #800000\">│</span>\n",
       "<span style=\"color: #800000; text-decoration-color: #800000\">│</span>   <span style=\"color: #7f7f7f; text-decoration-color: #7f7f7f\">3416 │   │   │   │   │   </span><span style=\"color: #0000ff; text-decoration-color: #0000ff\">await</span> <span style=\"color: #00ffff; text-decoration-color: #00ffff\">eval</span>(code_obj, <span style=\"color: #00ffff; text-decoration-color: #00ffff\">self</span>.user_global_ns, <span style=\"color: #00ffff; text-decoration-color: #00ffff\">self</span>.user_ns)               <span style=\"color: #800000; text-decoration-color: #800000\">│</span>\n",
       "<span style=\"color: #800000; text-decoration-color: #800000\">│</span>   <span style=\"color: #7f7f7f; text-decoration-color: #7f7f7f\">3417 │   │   │   │   </span><span style=\"color: #0000ff; text-decoration-color: #0000ff\">else</span>:                                                                     <span style=\"color: #800000; text-decoration-color: #800000\">│</span>\n",
       "<span style=\"color: #800000; text-decoration-color: #800000\">│</span> <span style=\"color: #800000; text-decoration-color: #800000\">❱ </span>3418 <span style=\"color: #7f7f7f; text-decoration-color: #7f7f7f\">│   │   │   │   │   </span>exec(code_obj, <span style=\"color: #00ffff; text-decoration-color: #00ffff\">self</span>.user_global_ns, <span style=\"color: #00ffff; text-decoration-color: #00ffff\">self</span>.user_ns)                     <span style=\"color: #800000; text-decoration-color: #800000\">│</span>\n",
       "<span style=\"color: #800000; text-decoration-color: #800000\">│</span>   <span style=\"color: #7f7f7f; text-decoration-color: #7f7f7f\">3419 │   │   │   </span><span style=\"color: #0000ff; text-decoration-color: #0000ff\">finally</span>:                                                                      <span style=\"color: #800000; text-decoration-color: #800000\">│</span>\n",
       "<span style=\"color: #800000; text-decoration-color: #800000\">│</span>   <span style=\"color: #7f7f7f; text-decoration-color: #7f7f7f\">3420 │   │   │   │   # Reset our crash handler in place</span>                                        <span style=\"color: #800000; text-decoration-color: #800000\">│</span>\n",
       "<span style=\"color: #800000; text-decoration-color: #800000\">│</span>   <span style=\"color: #7f7f7f; text-decoration-color: #7f7f7f\">3421 │   │   │   │   </span>sys.excepthook = old_excepthook                                           <span style=\"color: #800000; text-decoration-color: #800000\">│</span>\n",
       "<span style=\"color: #800000; text-decoration-color: #800000\">│</span> <span style=\"color: #808000; text-decoration-color: #808000\">&lt;ipython-input-32-5dfc63722a79&gt;</span>:<span style=\"color: #0000ff; text-decoration-color: #0000ff\">28</span> in <span style=\"color: #00ff00; text-decoration-color: #00ff00\">&lt;module&gt;</span>                                                   <span style=\"color: #800000; text-decoration-color: #800000\">│</span>\n",
       "<span style=\"color: #800000; text-decoration-color: #800000\">│</span>                                                                                                  <span style=\"color: #800000; text-decoration-color: #800000\">│</span>\n",
       "<span style=\"color: #800000; text-decoration-color: #800000\">│</span> <span style=\"color: #bfbf7f; text-decoration-color: #bfbf7f\">/home/denis/anaconda3/lib/python3.7/site-packages/torch/</span><span style=\"color: #808000; text-decoration-color: #808000; font-weight: bold\">_tensor.py</span>:<span style=\"color: #0000ff; text-decoration-color: #0000ff\">396</span> in <span style=\"color: #00ff00; text-decoration-color: #00ff00\">backward</span>               <span style=\"color: #800000; text-decoration-color: #800000\">│</span>\n",
       "<span style=\"color: #800000; text-decoration-color: #800000\">│</span>                                                                                                  <span style=\"color: #800000; text-decoration-color: #800000\">│</span>\n",
       "<span style=\"color: #800000; text-decoration-color: #800000\">│</span>   <span style=\"color: #7f7f7f; text-decoration-color: #7f7f7f\"> 393 │   │   │   │   </span>retain_graph=retain_graph,                                                <span style=\"color: #800000; text-decoration-color: #800000\">│</span>\n",
       "<span style=\"color: #800000; text-decoration-color: #800000\">│</span>   <span style=\"color: #7f7f7f; text-decoration-color: #7f7f7f\"> 394 │   │   │   │   </span>create_graph=create_graph,                                                <span style=\"color: #800000; text-decoration-color: #800000\">│</span>\n",
       "<span style=\"color: #800000; text-decoration-color: #800000\">│</span>   <span style=\"color: #7f7f7f; text-decoration-color: #7f7f7f\"> 395 │   │   │   │   </span>inputs=inputs)                                                            <span style=\"color: #800000; text-decoration-color: #800000\">│</span>\n",
       "<span style=\"color: #800000; text-decoration-color: #800000\">│</span> <span style=\"color: #800000; text-decoration-color: #800000\">❱ </span> 396 <span style=\"color: #7f7f7f; text-decoration-color: #7f7f7f\">│   │   </span>torch.autograd.backward(<span style=\"color: #00ffff; text-decoration-color: #00ffff\">self</span>, gradient, retain_graph, create_graph, inputs=input  <span style=\"color: #800000; text-decoration-color: #800000\">│</span>\n",
       "<span style=\"color: #800000; text-decoration-color: #800000\">│</span>   <span style=\"color: #7f7f7f; text-decoration-color: #7f7f7f\"> 397 │   </span>                                                                                      <span style=\"color: #800000; text-decoration-color: #800000\">│</span>\n",
       "<span style=\"color: #800000; text-decoration-color: #800000\">│</span>   <span style=\"color: #7f7f7f; text-decoration-color: #7f7f7f\"> 398 │   </span><span style=\"color: #0000ff; text-decoration-color: #0000ff\">def</span> <span style=\"color: #00ff00; text-decoration-color: #00ff00\">register_hook</span>(<span style=\"color: #00ffff; text-decoration-color: #00ffff\">self</span>, hook):                                                        <span style=\"color: #800000; text-decoration-color: #800000\">│</span>\n",
       "<span style=\"color: #800000; text-decoration-color: #800000\">│</span>   <span style=\"color: #7f7f7f; text-decoration-color: #7f7f7f\"> 399 │   │   </span><span style=\"color: #808000; text-decoration-color: #808000\">r\"\"\"Registers a backward hook.</span>                                                    <span style=\"color: #800000; text-decoration-color: #800000\">│</span>\n",
       "<span style=\"color: #800000; text-decoration-color: #800000\">│</span>                                                                                                  <span style=\"color: #800000; text-decoration-color: #800000\">│</span>\n",
       "<span style=\"color: #800000; text-decoration-color: #800000\">│</span> <span style=\"color: #bfbf7f; text-decoration-color: #bfbf7f\">/home/denis/anaconda3/lib/python3.7/site-packages/torch/autograd/</span><span style=\"color: #808000; text-decoration-color: #808000; font-weight: bold\">__init__.py</span>:<span style=\"color: #0000ff; text-decoration-color: #0000ff\">175</span> in <span style=\"color: #00ff00; text-decoration-color: #00ff00\">backward</span>     <span style=\"color: #800000; text-decoration-color: #800000\">│</span>\n",
       "<span style=\"color: #800000; text-decoration-color: #800000\">│</span>                                                                                                  <span style=\"color: #800000; text-decoration-color: #800000\">│</span>\n",
       "<span style=\"color: #800000; text-decoration-color: #800000\">│</span>   <span style=\"color: #7f7f7f; text-decoration-color: #7f7f7f\">172 │   # calls in the traceback and some print out the last line</span>                              <span style=\"color: #800000; text-decoration-color: #800000\">│</span>\n",
       "<span style=\"color: #800000; text-decoration-color: #800000\">│</span>   <span style=\"color: #7f7f7f; text-decoration-color: #7f7f7f\">173 │   </span>Variable._execution_engine.run_backward(  <span style=\"color: #7f7f7f; text-decoration-color: #7f7f7f\"># Calls into the C++ engine to run the bac</span>   <span style=\"color: #800000; text-decoration-color: #800000\">│</span>\n",
       "<span style=\"color: #800000; text-decoration-color: #800000\">│</span>   <span style=\"color: #7f7f7f; text-decoration-color: #7f7f7f\">174 │   │   </span>tensors, grad_tensors_, retain_graph, create_graph, inputs,                        <span style=\"color: #800000; text-decoration-color: #800000\">│</span>\n",
       "<span style=\"color: #800000; text-decoration-color: #800000\">│</span> <span style=\"color: #800000; text-decoration-color: #800000\">❱ </span>175 <span style=\"color: #7f7f7f; text-decoration-color: #7f7f7f\">│   │   </span>allow_unreachable=<span style=\"color: #0000ff; text-decoration-color: #0000ff\">True</span>, accumulate_grad=<span style=\"color: #0000ff; text-decoration-color: #0000ff\">True</span>)  <span style=\"color: #7f7f7f; text-decoration-color: #7f7f7f\"># Calls into the C++ engine to ru</span>   <span style=\"color: #800000; text-decoration-color: #800000\">│</span>\n",
       "<span style=\"color: #800000; text-decoration-color: #800000\">│</span>   <span style=\"color: #7f7f7f; text-decoration-color: #7f7f7f\">176 </span>                                                                                           <span style=\"color: #800000; text-decoration-color: #800000\">│</span>\n",
       "<span style=\"color: #800000; text-decoration-color: #800000\">│</span>   <span style=\"color: #7f7f7f; text-decoration-color: #7f7f7f\">177 </span><span style=\"color: #0000ff; text-decoration-color: #0000ff\">def</span> <span style=\"color: #00ff00; text-decoration-color: #00ff00\">grad</span>(                                                                                  <span style=\"color: #800000; text-decoration-color: #800000\">│</span>\n",
       "<span style=\"color: #800000; text-decoration-color: #800000\">│</span>   <span style=\"color: #7f7f7f; text-decoration-color: #7f7f7f\">178 │   </span>outputs: _TensorOrTensors,                                                             <span style=\"color: #800000; text-decoration-color: #800000\">│</span>\n",
       "<span style=\"color: #800000; text-decoration-color: #800000\">╰──────────────────────────────────────────────────────────────────────────────────────────────────╯</span>\n",
       "<span style=\"color: #ff0000; text-decoration-color: #ff0000; font-weight: bold\">KeyboardInterrupt</span>\n",
       "\n",
       "<span style=\"font-style: italic\">During handling of the above exception, another exception occurred:</span>\n",
       "\n",
       "<span style=\"color: #800000; text-decoration-color: #800000\">╭─────────────────────────────── </span><span style=\"color: #800000; text-decoration-color: #800000; font-weight: bold\">Traceback </span><span style=\"color: #bf7f7f; text-decoration-color: #bf7f7f; font-weight: bold\">(most recent call last)</span><span style=\"color: #800000; text-decoration-color: #800000\"> ────────────────────────────────╮</span>\n",
       "<span style=\"color: #800000; text-decoration-color: #800000\">│</span> <span style=\"color: #bfbf7f; text-decoration-color: #bfbf7f\">/home/denis/anaconda3/lib/python3.7/site-packages/IPython/core/</span><span style=\"color: #808000; text-decoration-color: #808000; font-weight: bold\">interactiveshell.py</span>:<span style=\"color: #0000ff; text-decoration-color: #0000ff\">2045</span> in       <span style=\"color: #800000; text-decoration-color: #800000\">│</span>\n",
       "<span style=\"color: #800000; text-decoration-color: #800000\">│</span> <span style=\"color: #00ff00; text-decoration-color: #00ff00\">showtraceback</span>                                                                                    <span style=\"color: #800000; text-decoration-color: #800000\">│</span>\n",
       "<span style=\"color: #800000; text-decoration-color: #800000\">│</span>                                                                                                  <span style=\"color: #800000; text-decoration-color: #800000\">│</span>\n",
       "<span style=\"color: #800000; text-decoration-color: #800000\">│</span>   <span style=\"color: #7f7f7f; text-decoration-color: #7f7f7f\">2042 │   │   │   │   │   │   # Exception classes can customise their traceback - we</span>            <span style=\"color: #800000; text-decoration-color: #800000\">│</span>\n",
       "<span style=\"color: #800000; text-decoration-color: #800000\">│</span>   <span style=\"color: #7f7f7f; text-decoration-color: #7f7f7f\">2043 │   │   │   │   │   │   # use this in IPython.parallel for exceptions occurring</span>           <span style=\"color: #800000; text-decoration-color: #800000\">│</span>\n",
       "<span style=\"color: #800000; text-decoration-color: #800000\">│</span>   <span style=\"color: #7f7f7f; text-decoration-color: #7f7f7f\">2044 │   │   │   │   │   │   # in the engines. This should return a list of strings.</span>           <span style=\"color: #800000; text-decoration-color: #800000\">│</span>\n",
       "<span style=\"color: #800000; text-decoration-color: #800000\">│</span> <span style=\"color: #800000; text-decoration-color: #800000\">❱ </span>2045 <span style=\"color: #7f7f7f; text-decoration-color: #7f7f7f\">│   │   │   │   │   │   </span>stb = value._render_traceback_()                                  <span style=\"color: #800000; text-decoration-color: #800000\">│</span>\n",
       "<span style=\"color: #800000; text-decoration-color: #800000\">│</span>   <span style=\"color: #7f7f7f; text-decoration-color: #7f7f7f\">2046 │   │   │   │   │   </span><span style=\"color: #0000ff; text-decoration-color: #0000ff\">except</span> <span style=\"color: #00ffff; text-decoration-color: #00ffff\">Exception</span>:                                                     <span style=\"color: #800000; text-decoration-color: #800000\">│</span>\n",
       "<span style=\"color: #800000; text-decoration-color: #800000\">│</span>   <span style=\"color: #7f7f7f; text-decoration-color: #7f7f7f\">2047 │   │   │   │   │   │   </span>stb = <span style=\"color: #00ffff; text-decoration-color: #00ffff\">self</span>.InteractiveTB.structured_traceback(etype,              <span style=\"color: #800000; text-decoration-color: #800000\">│</span>\n",
       "<span style=\"color: #800000; text-decoration-color: #800000\">│</span>   <span style=\"color: #7f7f7f; text-decoration-color: #7f7f7f\">2048 │   │   │   │   │   │   │   │   │   │   │   </span>value, tb, tb_offset=tb_offset)               <span style=\"color: #800000; text-decoration-color: #800000\">│</span>\n",
       "<span style=\"color: #800000; text-decoration-color: #800000\">╰──────────────────────────────────────────────────────────────────────────────────────────────────╯</span>\n",
       "<span style=\"color: #ff0000; text-decoration-color: #ff0000; font-weight: bold\">AttributeError: </span><span style=\"color: #008000; text-decoration-color: #008000\">'KeyboardInterrupt'</span> object has no attribute <span style=\"color: #008000; text-decoration-color: #008000\">'_render_traceback_'</span>\n",
       "\n",
       "<span style=\"font-style: italic\">During handling of the above exception, another exception occurred:</span>\n",
       "\n",
       "<span style=\"color: #800000; text-decoration-color: #800000\">╭─────────────────────────────── </span><span style=\"color: #800000; text-decoration-color: #800000; font-weight: bold\">Traceback </span><span style=\"color: #bf7f7f; text-decoration-color: #bf7f7f; font-weight: bold\">(most recent call last)</span><span style=\"color: #800000; text-decoration-color: #800000\"> ────────────────────────────────╮</span>\n",
       "<span style=\"color: #800000; text-decoration-color: #800000\">│</span> <span style=\"color: #bfbf7f; text-decoration-color: #bfbf7f\">/home/denis/anaconda3/lib/python3.7/site-packages/IPython/core/</span><span style=\"color: #808000; text-decoration-color: #808000; font-weight: bold\">interactiveshell.py</span>:<span style=\"color: #0000ff; text-decoration-color: #0000ff\">3338</span> in       <span style=\"color: #800000; text-decoration-color: #800000\">│</span>\n",
       "<span style=\"color: #800000; text-decoration-color: #800000\">│</span> <span style=\"color: #00ff00; text-decoration-color: #00ff00\">run_ast_nodes</span>                                                                                    <span style=\"color: #800000; text-decoration-color: #800000\">│</span>\n",
       "<span style=\"color: #800000; text-decoration-color: #800000\">│</span>                                                                                                  <span style=\"color: #800000; text-decoration-color: #800000\">│</span>\n",
       "<span style=\"color: #800000; text-decoration-color: #800000\">│</span>   <span style=\"color: #7f7f7f; text-decoration-color: #7f7f7f\">3335 │   │   │   │   │   </span><span style=\"color: #0000ff; text-decoration-color: #0000ff\">with</span> compiler.extra_flags(<span style=\"color: #00ffff; text-decoration-color: #00ffff\">getattr</span>(ast, <span style=\"color: #808000; text-decoration-color: #808000\">'PyCF_ALLOW_TOP_LEVEL_AWAIT'</span>,  <span style=\"color: #800000; text-decoration-color: #800000\">│</span>\n",
       "<span style=\"color: #800000; text-decoration-color: #800000\">│</span>   <span style=\"color: #7f7f7f; text-decoration-color: #7f7f7f\">3336 │   │   │   │   │   │   </span>code = compiler(mod, cell_name, mode)                             <span style=\"color: #800000; text-decoration-color: #800000\">│</span>\n",
       "<span style=\"color: #800000; text-decoration-color: #800000\">│</span>   <span style=\"color: #7f7f7f; text-decoration-color: #7f7f7f\">3337 │   │   │   │   │   │   </span>asy = compare(code)                                               <span style=\"color: #800000; text-decoration-color: #800000\">│</span>\n",
       "<span style=\"color: #800000; text-decoration-color: #800000\">│</span> <span style=\"color: #800000; text-decoration-color: #800000\">❱ </span>3338 <span style=\"color: #7f7f7f; text-decoration-color: #7f7f7f\">│   │   │   │   │   </span><span style=\"color: #0000ff; text-decoration-color: #0000ff\">if</span> (<span style=\"color: #0000ff; text-decoration-color: #0000ff\">await</span> <span style=\"color: #00ffff; text-decoration-color: #00ffff\">self</span>.run_code(code, result,  async_=asy)):                  <span style=\"color: #800000; text-decoration-color: #800000\">│</span>\n",
       "<span style=\"color: #800000; text-decoration-color: #800000\">│</span>   <span style=\"color: #7f7f7f; text-decoration-color: #7f7f7f\">3339 │   │   │   │   │   │   </span><span style=\"color: #0000ff; text-decoration-color: #0000ff\">return</span> <span style=\"color: #0000ff; text-decoration-color: #0000ff\">True</span>                                                       <span style=\"color: #800000; text-decoration-color: #800000\">│</span>\n",
       "<span style=\"color: #800000; text-decoration-color: #800000\">│</span>   <span style=\"color: #7f7f7f; text-decoration-color: #7f7f7f\">3340 │   │   │   </span>                                                                              <span style=\"color: #800000; text-decoration-color: #800000\">│</span>\n",
       "<span style=\"color: #800000; text-decoration-color: #800000\">│</span>   <span style=\"color: #7f7f7f; text-decoration-color: #7f7f7f\">3341 │   │   │   # Flush softspace</span>                                                             <span style=\"color: #800000; text-decoration-color: #800000\">│</span>\n",
       "<span style=\"color: #800000; text-decoration-color: #800000\">│</span>                                                                                                  <span style=\"color: #800000; text-decoration-color: #800000\">│</span>\n",
       "<span style=\"color: #800000; text-decoration-color: #800000\">│</span> <span style=\"color: #bfbf7f; text-decoration-color: #bfbf7f\">/home/denis/anaconda3/lib/python3.7/site-packages/IPython/core/</span><span style=\"color: #808000; text-decoration-color: #808000; font-weight: bold\">interactiveshell.py</span>:<span style=\"color: #0000ff; text-decoration-color: #0000ff\">3435</span> in       <span style=\"color: #800000; text-decoration-color: #800000\">│</span>\n",
       "<span style=\"color: #800000; text-decoration-color: #800000\">│</span> <span style=\"color: #00ff00; text-decoration-color: #00ff00\">run_code</span>                                                                                         <span style=\"color: #800000; text-decoration-color: #800000\">│</span>\n",
       "<span style=\"color: #800000; text-decoration-color: #800000\">│</span>                                                                                                  <span style=\"color: #800000; text-decoration-color: #800000\">│</span>\n",
       "<span style=\"color: #800000; text-decoration-color: #800000\">│</span>   <span style=\"color: #7f7f7f; text-decoration-color: #7f7f7f\">3432 │   │   </span><span style=\"color: #0000ff; text-decoration-color: #0000ff\">except</span>:                                                                           <span style=\"color: #800000; text-decoration-color: #800000\">│</span>\n",
       "<span style=\"color: #800000; text-decoration-color: #800000\">│</span>   <span style=\"color: #7f7f7f; text-decoration-color: #7f7f7f\">3433 │   │   │   </span><span style=\"color: #0000ff; text-decoration-color: #0000ff\">if</span> result <span style=\"color: #ff00ff; text-decoration-color: #ff00ff\">is</span> <span style=\"color: #ff00ff; text-decoration-color: #ff00ff\">not</span> <span style=\"color: #0000ff; text-decoration-color: #0000ff\">None</span>:                                                        <span style=\"color: #800000; text-decoration-color: #800000\">│</span>\n",
       "<span style=\"color: #800000; text-decoration-color: #800000\">│</span>   <span style=\"color: #7f7f7f; text-decoration-color: #7f7f7f\">3434 │   │   │   │   </span>result.error_in_exec = sys.exc_info()[<span style=\"color: #0000ff; text-decoration-color: #0000ff\">1</span>]                                  <span style=\"color: #800000; text-decoration-color: #800000\">│</span>\n",
       "<span style=\"color: #800000; text-decoration-color: #800000\">│</span> <span style=\"color: #800000; text-decoration-color: #800000\">❱ </span>3435 <span style=\"color: #7f7f7f; text-decoration-color: #7f7f7f\">│   │   │   </span><span style=\"color: #00ffff; text-decoration-color: #00ffff\">self</span>.showtraceback(running_compiled_code=<span style=\"color: #0000ff; text-decoration-color: #0000ff\">True</span>)                                <span style=\"color: #800000; text-decoration-color: #800000\">│</span>\n",
       "<span style=\"color: #800000; text-decoration-color: #800000\">│</span>   <span style=\"color: #7f7f7f; text-decoration-color: #7f7f7f\">3436 │   │   </span><span style=\"color: #0000ff; text-decoration-color: #0000ff\">else</span>:                                                                             <span style=\"color: #800000; text-decoration-color: #800000\">│</span>\n",
       "<span style=\"color: #800000; text-decoration-color: #800000\">│</span>   <span style=\"color: #7f7f7f; text-decoration-color: #7f7f7f\">3437 │   │   │   </span>outflag = <span style=\"color: #0000ff; text-decoration-color: #0000ff\">False</span>                                                               <span style=\"color: #800000; text-decoration-color: #800000\">│</span>\n",
       "<span style=\"color: #800000; text-decoration-color: #800000\">│</span>   <span style=\"color: #7f7f7f; text-decoration-color: #7f7f7f\">3438 │   │   </span><span style=\"color: #0000ff; text-decoration-color: #0000ff\">return</span> outflag                                                                    <span style=\"color: #800000; text-decoration-color: #800000\">│</span>\n",
       "<span style=\"color: #800000; text-decoration-color: #800000\">│</span>                                                                                                  <span style=\"color: #800000; text-decoration-color: #800000\">│</span>\n",
       "<span style=\"color: #800000; text-decoration-color: #800000\">│</span> <span style=\"color: #bfbf7f; text-decoration-color: #bfbf7f\">/home/denis/anaconda3/lib/python3.7/site-packages/rich/</span><span style=\"color: #808000; text-decoration-color: #808000; font-weight: bold\">traceback.py</span>:<span style=\"color: #0000ff; text-decoration-color: #0000ff\">99</span> in <span style=\"color: #00ff00; text-decoration-color: #00ff00\">ipy_show_traceback</span>     <span style=\"color: #800000; text-decoration-color: #800000\">│</span>\n",
       "<span style=\"color: #800000; text-decoration-color: #800000\">│</span>                                                                                                  <span style=\"color: #800000; text-decoration-color: #800000\">│</span>\n",
       "<span style=\"color: #800000; text-decoration-color: #800000\">│</span>   <span style=\"color: #7f7f7f; text-decoration-color: #7f7f7f\"> 96 │   │   │   </span><span style=\"color: #808000; text-decoration-color: #808000\">\"\"\"wrap the default ip.showtraceback to store info for ip._showtraceback\"\"\"</span>    <span style=\"color: #800000; text-decoration-color: #800000\">│</span>\n",
       "<span style=\"color: #800000; text-decoration-color: #800000\">│</span>   <span style=\"color: #7f7f7f; text-decoration-color: #7f7f7f\"> 97 │   │   │   </span><span style=\"color: #0000ff; text-decoration-color: #0000ff\">nonlocal</span> tb_data                                                               <span style=\"color: #800000; text-decoration-color: #800000\">│</span>\n",
       "<span style=\"color: #800000; text-decoration-color: #800000\">│</span>   <span style=\"color: #7f7f7f; text-decoration-color: #7f7f7f\"> 98 │   │   │   </span>tb_data = kwargs                                                               <span style=\"color: #800000; text-decoration-color: #800000\">│</span>\n",
       "<span style=\"color: #800000; text-decoration-color: #800000\">│</span> <span style=\"color: #800000; text-decoration-color: #800000\">❱ </span> 99 <span style=\"color: #7f7f7f; text-decoration-color: #7f7f7f\">│   │   │   </span>default_showtraceback(*args, **kwargs)                                         <span style=\"color: #800000; text-decoration-color: #800000\">│</span>\n",
       "<span style=\"color: #800000; text-decoration-color: #800000\">│</span>   <span style=\"color: #7f7f7f; text-decoration-color: #7f7f7f\">100 │   │   </span>                                                                                   <span style=\"color: #800000; text-decoration-color: #800000\">│</span>\n",
       "<span style=\"color: #800000; text-decoration-color: #800000\">│</span>   <span style=\"color: #7f7f7f; text-decoration-color: #7f7f7f\">101 │   │   </span><span style=\"color: #0000ff; text-decoration-color: #0000ff\">def</span> <span style=\"color: #00ff00; text-decoration-color: #00ff00\">ipy_display_traceback</span>(                                                         <span style=\"color: #800000; text-decoration-color: #800000\">│</span>\n",
       "<span style=\"color: #800000; text-decoration-color: #800000\">│</span>   <span style=\"color: #7f7f7f; text-decoration-color: #7f7f7f\">102 │   │   │   </span>*args: Any, is_syntax: <span style=\"color: #00ffff; text-decoration-color: #00ffff\">bool</span> = <span style=\"color: #0000ff; text-decoration-color: #0000ff\">False</span>, **kwargs: Any                             <span style=\"color: #800000; text-decoration-color: #800000\">│</span>\n",
       "<span style=\"color: #800000; text-decoration-color: #800000\">│</span>                                                                                                  <span style=\"color: #800000; text-decoration-color: #800000\">│</span>\n",
       "<span style=\"color: #800000; text-decoration-color: #800000\">│</span> <span style=\"color: #bfbf7f; text-decoration-color: #bfbf7f\">/home/denis/anaconda3/lib/python3.7/site-packages/IPython/core/</span><span style=\"color: #808000; text-decoration-color: #808000; font-weight: bold\">interactiveshell.py</span>:<span style=\"color: #0000ff; text-decoration-color: #0000ff\">2048</span> in       <span style=\"color: #800000; text-decoration-color: #800000\">│</span>\n",
       "<span style=\"color: #800000; text-decoration-color: #800000\">│</span> <span style=\"color: #00ff00; text-decoration-color: #00ff00\">showtraceback</span>                                                                                    <span style=\"color: #800000; text-decoration-color: #800000\">│</span>\n",
       "<span style=\"color: #800000; text-decoration-color: #800000\">│</span>                                                                                                  <span style=\"color: #800000; text-decoration-color: #800000\">│</span>\n",
       "<span style=\"color: #800000; text-decoration-color: #800000\">│</span>   <span style=\"color: #7f7f7f; text-decoration-color: #7f7f7f\">2045 │   │   │   │   │   │   </span>stb = value._render_traceback_()                                  <span style=\"color: #800000; text-decoration-color: #800000\">│</span>\n",
       "<span style=\"color: #800000; text-decoration-color: #800000\">│</span>   <span style=\"color: #7f7f7f; text-decoration-color: #7f7f7f\">2046 │   │   │   │   │   </span><span style=\"color: #0000ff; text-decoration-color: #0000ff\">except</span> <span style=\"color: #00ffff; text-decoration-color: #00ffff\">Exception</span>:                                                     <span style=\"color: #800000; text-decoration-color: #800000\">│</span>\n",
       "<span style=\"color: #800000; text-decoration-color: #800000\">│</span>   <span style=\"color: #7f7f7f; text-decoration-color: #7f7f7f\">2047 │   │   │   │   │   │   </span>stb = <span style=\"color: #00ffff; text-decoration-color: #00ffff\">self</span>.InteractiveTB.structured_traceback(etype,              <span style=\"color: #800000; text-decoration-color: #800000\">│</span>\n",
       "<span style=\"color: #800000; text-decoration-color: #800000\">│</span> <span style=\"color: #800000; text-decoration-color: #800000\">❱ </span>2048 <span style=\"color: #7f7f7f; text-decoration-color: #7f7f7f\">│   │   │   │   │   │   │   │   │   │   │   </span>value, tb, tb_offset=tb_offset)               <span style=\"color: #800000; text-decoration-color: #800000\">│</span>\n",
       "<span style=\"color: #800000; text-decoration-color: #800000\">│</span>   <span style=\"color: #7f7f7f; text-decoration-color: #7f7f7f\">2049 │   │   │   │   │   </span>                                                                      <span style=\"color: #800000; text-decoration-color: #800000\">│</span>\n",
       "<span style=\"color: #800000; text-decoration-color: #800000\">│</span>   <span style=\"color: #7f7f7f; text-decoration-color: #7f7f7f\">2050 │   │   │   │   │   </span><span style=\"color: #00ffff; text-decoration-color: #00ffff\">self</span>._showtraceback(etype, value, stb)                                <span style=\"color: #800000; text-decoration-color: #800000\">│</span>\n",
       "<span style=\"color: #800000; text-decoration-color: #800000\">│</span>   <span style=\"color: #7f7f7f; text-decoration-color: #7f7f7f\">2051 │   │   │   │   │   </span><span style=\"color: #0000ff; text-decoration-color: #0000ff\">if</span> <span style=\"color: #00ffff; text-decoration-color: #00ffff\">self</span>.call_pdb:                                                     <span style=\"color: #800000; text-decoration-color: #800000\">│</span>\n",
       "<span style=\"color: #800000; text-decoration-color: #800000\">│</span>                                                                                                  <span style=\"color: #800000; text-decoration-color: #800000\">│</span>\n",
       "<span style=\"color: #800000; text-decoration-color: #800000\">│</span> <span style=\"color: #bfbf7f; text-decoration-color: #bfbf7f\">/home/denis/anaconda3/lib/python3.7/site-packages/IPython/core/</span><span style=\"color: #808000; text-decoration-color: #808000; font-weight: bold\">ultratb.py</span>:<span style=\"color: #0000ff; text-decoration-color: #0000ff\">1437</span> in                <span style=\"color: #800000; text-decoration-color: #800000\">│</span>\n",
       "<span style=\"color: #800000; text-decoration-color: #800000\">│</span> <span style=\"color: #00ff00; text-decoration-color: #00ff00\">structured_traceback</span>                                                                             <span style=\"color: #800000; text-decoration-color: #800000\">│</span>\n",
       "<span style=\"color: #800000; text-decoration-color: #800000\">│</span>                                                                                                  <span style=\"color: #800000; text-decoration-color: #800000\">│</span>\n",
       "<span style=\"color: #800000; text-decoration-color: #800000\">│</span>   <span style=\"color: #7f7f7f; text-decoration-color: #7f7f7f\">1434 │   │   </span><span style=\"color: #0000ff; text-decoration-color: #0000ff\">else</span>:                                                                             <span style=\"color: #800000; text-decoration-color: #800000\">│</span>\n",
       "<span style=\"color: #800000; text-decoration-color: #800000\">│</span>   <span style=\"color: #7f7f7f; text-decoration-color: #7f7f7f\">1435 │   │   │   </span><span style=\"color: #00ffff; text-decoration-color: #00ffff\">self</span>.tb = tb                                                                  <span style=\"color: #800000; text-decoration-color: #800000\">│</span>\n",
       "<span style=\"color: #800000; text-decoration-color: #800000\">│</span>   <span style=\"color: #7f7f7f; text-decoration-color: #7f7f7f\">1436 │   │   </span><span style=\"color: #0000ff; text-decoration-color: #0000ff\">return</span> FormattedTB.structured_traceback(                                          <span style=\"color: #800000; text-decoration-color: #800000\">│</span>\n",
       "<span style=\"color: #800000; text-decoration-color: #800000\">│</span> <span style=\"color: #800000; text-decoration-color: #800000\">❱ </span>1437 <span style=\"color: #7f7f7f; text-decoration-color: #7f7f7f\">│   │   │   </span><span style=\"color: #00ffff; text-decoration-color: #00ffff\">self</span>, etype, value, tb, tb_offset, number_of_lines_of_context)                <span style=\"color: #800000; text-decoration-color: #800000\">│</span>\n",
       "<span style=\"color: #800000; text-decoration-color: #800000\">│</span>   <span style=\"color: #7f7f7f; text-decoration-color: #7f7f7f\">1438 </span>                                                                                          <span style=\"color: #800000; text-decoration-color: #800000\">│</span>\n",
       "<span style=\"color: #800000; text-decoration-color: #800000\">│</span>   <span style=\"color: #7f7f7f; text-decoration-color: #7f7f7f\">1439 </span>                                                                                          <span style=\"color: #800000; text-decoration-color: #800000\">│</span>\n",
       "<span style=\"color: #800000; text-decoration-color: #800000\">│</span>   <span style=\"color: #7f7f7f; text-decoration-color: #7f7f7f\">1440 #---------------------------------------------------------------------------</span>              <span style=\"color: #800000; text-decoration-color: #800000\">│</span>\n",
       "<span style=\"color: #800000; text-decoration-color: #800000\">│</span>                                                                                                  <span style=\"color: #800000; text-decoration-color: #800000\">│</span>\n",
       "<span style=\"color: #800000; text-decoration-color: #800000\">│</span> <span style=\"color: #bfbf7f; text-decoration-color: #bfbf7f\">/home/denis/anaconda3/lib/python3.7/site-packages/IPython/core/</span><span style=\"color: #808000; text-decoration-color: #808000; font-weight: bold\">ultratb.py</span>:<span style=\"color: #0000ff; text-decoration-color: #0000ff\">1337</span> in                <span style=\"color: #800000; text-decoration-color: #800000\">│</span>\n",
       "<span style=\"color: #800000; text-decoration-color: #800000\">│</span> <span style=\"color: #00ff00; text-decoration-color: #00ff00\">structured_traceback</span>                                                                             <span style=\"color: #800000; text-decoration-color: #800000\">│</span>\n",
       "<span style=\"color: #800000; text-decoration-color: #800000\">│</span>                                                                                                  <span style=\"color: #800000; text-decoration-color: #800000\">│</span>\n",
       "<span style=\"color: #800000; text-decoration-color: #800000\">│</span>   <span style=\"color: #7f7f7f; text-decoration-color: #7f7f7f\">1334 │   │   </span><span style=\"color: #0000ff; text-decoration-color: #0000ff\">if</span> mode <span style=\"color: #ff00ff; text-decoration-color: #ff00ff\">in</span> <span style=\"color: #00ffff; text-decoration-color: #00ffff\">self</span>.verbose_modes:                                                    <span style=\"color: #800000; text-decoration-color: #800000\">│</span>\n",
       "<span style=\"color: #800000; text-decoration-color: #800000\">│</span>   <span style=\"color: #7f7f7f; text-decoration-color: #7f7f7f\">1335 │   │   │   # Verbose modes need a full traceback</span>                                         <span style=\"color: #800000; text-decoration-color: #800000\">│</span>\n",
       "<span style=\"color: #800000; text-decoration-color: #800000\">│</span>   <span style=\"color: #7f7f7f; text-decoration-color: #7f7f7f\">1336 │   │   │   </span><span style=\"color: #0000ff; text-decoration-color: #0000ff\">return</span> VerboseTB.structured_traceback(                                        <span style=\"color: #800000; text-decoration-color: #800000\">│</span>\n",
       "<span style=\"color: #800000; text-decoration-color: #800000\">│</span> <span style=\"color: #800000; text-decoration-color: #800000\">❱ </span>1337 <span style=\"color: #7f7f7f; text-decoration-color: #7f7f7f\">│   │   │   │   </span><span style=\"color: #00ffff; text-decoration-color: #00ffff\">self</span>, etype, value, tb, tb_offset, number_of_lines_of_context             <span style=\"color: #800000; text-decoration-color: #800000\">│</span>\n",
       "<span style=\"color: #800000; text-decoration-color: #800000\">│</span>   <span style=\"color: #7f7f7f; text-decoration-color: #7f7f7f\">1338 │   │   │   </span>)                                                                             <span style=\"color: #800000; text-decoration-color: #800000\">│</span>\n",
       "<span style=\"color: #800000; text-decoration-color: #800000\">│</span>   <span style=\"color: #7f7f7f; text-decoration-color: #7f7f7f\">1339 │   │   </span><span style=\"color: #0000ff; text-decoration-color: #0000ff\">elif</span> mode == <span style=\"color: #808000; text-decoration-color: #808000\">'Minimal'</span>:                                                           <span style=\"color: #800000; text-decoration-color: #800000\">│</span>\n",
       "<span style=\"color: #800000; text-decoration-color: #800000\">│</span>   <span style=\"color: #7f7f7f; text-decoration-color: #7f7f7f\">1340 │   │   │   </span><span style=\"color: #0000ff; text-decoration-color: #0000ff\">return</span> ListTB.get_exception_only(<span style=\"color: #00ffff; text-decoration-color: #00ffff\">self</span>, etype, value)                          <span style=\"color: #800000; text-decoration-color: #800000\">│</span>\n",
       "<span style=\"color: #800000; text-decoration-color: #800000\">│</span>                                                                                                  <span style=\"color: #800000; text-decoration-color: #800000\">│</span>\n",
       "<span style=\"color: #800000; text-decoration-color: #800000\">│</span> <span style=\"color: #bfbf7f; text-decoration-color: #bfbf7f\">/home/denis/anaconda3/lib/python3.7/site-packages/IPython/core/</span><span style=\"color: #808000; text-decoration-color: #808000; font-weight: bold\">ultratb.py</span>:<span style=\"color: #0000ff; text-decoration-color: #0000ff\">1194</span> in                <span style=\"color: #800000; text-decoration-color: #800000\">│</span>\n",
       "<span style=\"color: #800000; text-decoration-color: #800000\">│</span> <span style=\"color: #00ff00; text-decoration-color: #00ff00\">structured_traceback</span>                                                                             <span style=\"color: #800000; text-decoration-color: #800000\">│</span>\n",
       "<span style=\"color: #800000; text-decoration-color: #800000\">│</span>                                                                                                  <span style=\"color: #800000; text-decoration-color: #800000\">│</span>\n",
       "<span style=\"color: #800000; text-decoration-color: #800000\">│</span>   <span style=\"color: #7f7f7f; text-decoration-color: #7f7f7f\">1191 │   │   </span><span style=\"color: #808000; text-decoration-color: #808000\">\"\"\"Return a nice text document describing the traceback.\"\"\"</span>                       <span style=\"color: #800000; text-decoration-color: #800000\">│</span>\n",
       "<span style=\"color: #800000; text-decoration-color: #800000\">│</span>   <span style=\"color: #7f7f7f; text-decoration-color: #7f7f7f\">1192 │   │   </span>                                                                                  <span style=\"color: #800000; text-decoration-color: #800000\">│</span>\n",
       "<span style=\"color: #800000; text-decoration-color: #800000\">│</span>   <span style=\"color: #7f7f7f; text-decoration-color: #7f7f7f\">1193 │   │   </span>formatted_exception = <span style=\"color: #00ffff; text-decoration-color: #00ffff\">self</span>.format_exception_as_a_whole(etype, evalue, etb, numbe  <span style=\"color: #800000; text-decoration-color: #800000\">│</span>\n",
       "<span style=\"color: #800000; text-decoration-color: #800000\">│</span> <span style=\"color: #800000; text-decoration-color: #800000\">❱ </span>1194 <span style=\"color: #7f7f7f; text-decoration-color: #7f7f7f\">│   │   │   │   │   │   │   │   │   │   │   │   │   │   │      </span>tb_offset)                 <span style=\"color: #800000; text-decoration-color: #800000\">│</span>\n",
       "<span style=\"color: #800000; text-decoration-color: #800000\">│</span>   <span style=\"color: #7f7f7f; text-decoration-color: #7f7f7f\">1195 │   │   </span>                                                                                  <span style=\"color: #800000; text-decoration-color: #800000\">│</span>\n",
       "<span style=\"color: #800000; text-decoration-color: #800000\">│</span>   <span style=\"color: #7f7f7f; text-decoration-color: #7f7f7f\">1196 │   │   </span>colors = <span style=\"color: #00ffff; text-decoration-color: #00ffff\">self</span>.Colors  <span style=\"color: #7f7f7f; text-decoration-color: #7f7f7f\"># just a shorthand + quicker name lookup</span>                    <span style=\"color: #800000; text-decoration-color: #800000\">│</span>\n",
       "<span style=\"color: #800000; text-decoration-color: #800000\">│</span>   <span style=\"color: #7f7f7f; text-decoration-color: #7f7f7f\">1197 │   │   </span>colorsnormal = colors.Normal  <span style=\"color: #7f7f7f; text-decoration-color: #7f7f7f\"># used a lot</span>                                        <span style=\"color: #800000; text-decoration-color: #800000\">│</span>\n",
       "<span style=\"color: #800000; text-decoration-color: #800000\">│</span>                                                                                                  <span style=\"color: #800000; text-decoration-color: #800000\">│</span>\n",
       "<span style=\"color: #800000; text-decoration-color: #800000\">│</span> <span style=\"color: #bfbf7f; text-decoration-color: #bfbf7f\">/home/denis/anaconda3/lib/python3.7/site-packages/IPython/core/</span><span style=\"color: #808000; text-decoration-color: #808000; font-weight: bold\">ultratb.py</span>:<span style=\"color: #0000ff; text-decoration-color: #0000ff\">1151</span> in                <span style=\"color: #800000; text-decoration-color: #800000\">│</span>\n",
       "<span style=\"color: #800000; text-decoration-color: #800000\">│</span> <span style=\"color: #00ff00; text-decoration-color: #00ff00\">format_exception_as_a_whole</span>                                                                      <span style=\"color: #800000; text-decoration-color: #800000\">│</span>\n",
       "<span style=\"color: #800000; text-decoration-color: #800000\">│</span>                                                                                                  <span style=\"color: #800000; text-decoration-color: #800000\">│</span>\n",
       "<span style=\"color: #800000; text-decoration-color: #800000\">│</span>   <span style=\"color: #7f7f7f; text-decoration-color: #7f7f7f\">1148 │   │   </span>records = <span style=\"color: #00ffff; text-decoration-color: #00ffff\">self</span>.get_records(etb, number_of_lines_of_context, tb_offset)            <span style=\"color: #800000; text-decoration-color: #800000\">│</span>\n",
       "<span style=\"color: #800000; text-decoration-color: #800000\">│</span>   <span style=\"color: #7f7f7f; text-decoration-color: #7f7f7f\">1149 │   │   </span>                                                                                  <span style=\"color: #800000; text-decoration-color: #800000\">│</span>\n",
       "<span style=\"color: #800000; text-decoration-color: #800000\">│</span>   <span style=\"color: #7f7f7f; text-decoration-color: #7f7f7f\">1150 │   │   </span>                                                                                  <span style=\"color: #800000; text-decoration-color: #800000\">│</span>\n",
       "<span style=\"color: #800000; text-decoration-color: #800000\">│</span> <span style=\"color: #800000; text-decoration-color: #800000\">❱ </span>1151 <span style=\"color: #7f7f7f; text-decoration-color: #7f7f7f\">│   │   </span>last_unique, recursion_repeat = find_recursion(orig_etype, evalue, records)       <span style=\"color: #800000; text-decoration-color: #800000\">│</span>\n",
       "<span style=\"color: #800000; text-decoration-color: #800000\">│</span>   <span style=\"color: #7f7f7f; text-decoration-color: #7f7f7f\">1152 │   │   </span>                                                                                  <span style=\"color: #800000; text-decoration-color: #800000\">│</span>\n",
       "<span style=\"color: #800000; text-decoration-color: #800000\">│</span>   <span style=\"color: #7f7f7f; text-decoration-color: #7f7f7f\">1153 │   │   </span>frames = <span style=\"color: #00ffff; text-decoration-color: #00ffff\">self</span>.format_records(records, last_unique, recursion_repeat)              <span style=\"color: #800000; text-decoration-color: #800000\">│</span>\n",
       "<span style=\"color: #800000; text-decoration-color: #800000\">│</span>   <span style=\"color: #7f7f7f; text-decoration-color: #7f7f7f\">1154 </span>                                                                                          <span style=\"color: #800000; text-decoration-color: #800000\">│</span>\n",
       "<span style=\"color: #800000; text-decoration-color: #800000\">│</span>                                                                                                  <span style=\"color: #800000; text-decoration-color: #800000\">│</span>\n",
       "<span style=\"color: #800000; text-decoration-color: #800000\">│</span> <span style=\"color: #bfbf7f; text-decoration-color: #bfbf7f\">/home/denis/anaconda3/lib/python3.7/site-packages/IPython/core/</span><span style=\"color: #808000; text-decoration-color: #808000; font-weight: bold\">ultratb.py</span>:<span style=\"color: #0000ff; text-decoration-color: #0000ff\">451</span> in <span style=\"color: #00ff00; text-decoration-color: #00ff00\">find_recursion</span>  <span style=\"color: #800000; text-decoration-color: #800000\">│</span>\n",
       "<span style=\"color: #800000; text-decoration-color: #800000\">│</span>                                                                                                  <span style=\"color: #800000; text-decoration-color: #800000\">│</span>\n",
       "<span style=\"color: #800000; text-decoration-color: #800000\">│</span>   <span style=\"color: #7f7f7f; text-decoration-color: #7f7f7f\"> 448 │   # quarter of the traceback (250 frames by default) is repeats, and find the</span>           <span style=\"color: #800000; text-decoration-color: #800000\">│</span>\n",
       "<span style=\"color: #800000; text-decoration-color: #800000\">│</span>   <span style=\"color: #7f7f7f; text-decoration-color: #7f7f7f\"> 449 │   # first frame (from in to out) that looks different.</span>                                  <span style=\"color: #800000; text-decoration-color: #800000\">│</span>\n",
       "<span style=\"color: #800000; text-decoration-color: #800000\">│</span>   <span style=\"color: #7f7f7f; text-decoration-color: #7f7f7f\"> 450 │   </span><span style=\"color: #0000ff; text-decoration-color: #0000ff\">if</span> <span style=\"color: #ff00ff; text-decoration-color: #ff00ff\">not</span> is_recursion_error(etype, value, records):                                     <span style=\"color: #800000; text-decoration-color: #800000\">│</span>\n",
       "<span style=\"color: #800000; text-decoration-color: #800000\">│</span> <span style=\"color: #800000; text-decoration-color: #800000\">❱ </span> 451 <span style=\"color: #7f7f7f; text-decoration-color: #7f7f7f\">│   │   </span><span style=\"color: #0000ff; text-decoration-color: #0000ff\">return</span> <span style=\"color: #00ffff; text-decoration-color: #00ffff\">len</span>(records), <span style=\"color: #0000ff; text-decoration-color: #0000ff\">0</span>                                                            <span style=\"color: #800000; text-decoration-color: #800000\">│</span>\n",
       "<span style=\"color: #800000; text-decoration-color: #800000\">│</span>   <span style=\"color: #7f7f7f; text-decoration-color: #7f7f7f\"> 452 │   </span>                                                                                      <span style=\"color: #800000; text-decoration-color: #800000\">│</span>\n",
       "<span style=\"color: #800000; text-decoration-color: #800000\">│</span>   <span style=\"color: #7f7f7f; text-decoration-color: #7f7f7f\"> 453 │   # Select filename, lineno, func_name to track frames with</span>                             <span style=\"color: #800000; text-decoration-color: #800000\">│</span>\n",
       "<span style=\"color: #800000; text-decoration-color: #800000\">│</span>   <span style=\"color: #7f7f7f; text-decoration-color: #7f7f7f\"> 454 │   </span>records = [r[<span style=\"color: #0000ff; text-decoration-color: #0000ff\">1</span>:<span style=\"color: #0000ff; text-decoration-color: #0000ff\">4</span>] <span style=\"color: #0000ff; text-decoration-color: #0000ff\">for</span> r <span style=\"color: #ff00ff; text-decoration-color: #ff00ff\">in</span> records]                                                   <span style=\"color: #800000; text-decoration-color: #800000\">│</span>\n",
       "<span style=\"color: #800000; text-decoration-color: #800000\">╰──────────────────────────────────────────────────────────────────────────────────────────────────╯</span>\n",
       "<span style=\"color: #ff0000; text-decoration-color: #ff0000; font-weight: bold\">TypeError: </span>object of type <span style=\"color: #008000; text-decoration-color: #008000\">'NoneType'</span> has no <span style=\"color: #800080; text-decoration-color: #800080; font-weight: bold\">len</span><span style=\"font-weight: bold\">()</span>\n",
       "</pre>\n"
      ],
      "text/plain": [
       "\u001b[31m╭─\u001b[0m\u001b[31m──────────────────────────────\u001b[0m\u001b[31m \u001b[0m\u001b[1;31mTraceback \u001b[0m\u001b[1;2;31m(most recent call last)\u001b[0m\u001b[31m \u001b[0m\u001b[31m───────────────────────────────\u001b[0m\u001b[31m─╮\u001b[0m\n",
       "\u001b[31m│\u001b[0m \u001b[2;33m/home/denis/anaconda3/lib/python3.7/site-packages/IPython/core/\u001b[0m\u001b[1;33minteractiveshell.py\u001b[0m:\u001b[94m3418\u001b[0m in       \u001b[31m│\u001b[0m\n",
       "\u001b[31m│\u001b[0m \u001b[92mrun_code\u001b[0m                                                                                         \u001b[31m│\u001b[0m\n",
       "\u001b[31m│\u001b[0m                                                                                                  \u001b[31m│\u001b[0m\n",
       "\u001b[31m│\u001b[0m   \u001b[2m3415 \u001b[0m\u001b[2m│   │   │   │   \u001b[0m\u001b[94melif\u001b[0m async_ :                                                             \u001b[31m│\u001b[0m\n",
       "\u001b[31m│\u001b[0m   \u001b[2m3416 \u001b[0m\u001b[2m│   │   │   │   │   \u001b[0m\u001b[94mawait\u001b[0m \u001b[96meval\u001b[0m(code_obj, \u001b[96mself\u001b[0m.user_global_ns, \u001b[96mself\u001b[0m.user_ns)               \u001b[31m│\u001b[0m\n",
       "\u001b[31m│\u001b[0m   \u001b[2m3417 \u001b[0m\u001b[2m│   │   │   │   \u001b[0m\u001b[94melse\u001b[0m:                                                                     \u001b[31m│\u001b[0m\n",
       "\u001b[31m│\u001b[0m \u001b[31m❱ \u001b[0m3418 \u001b[2m│   │   │   │   │   \u001b[0mexec(code_obj, \u001b[96mself\u001b[0m.user_global_ns, \u001b[96mself\u001b[0m.user_ns)                     \u001b[31m│\u001b[0m\n",
       "\u001b[31m│\u001b[0m   \u001b[2m3419 \u001b[0m\u001b[2m│   │   │   \u001b[0m\u001b[94mfinally\u001b[0m:                                                                      \u001b[31m│\u001b[0m\n",
       "\u001b[31m│\u001b[0m   \u001b[2m3420 \u001b[0m\u001b[2m│   │   │   │   \u001b[0m\u001b[2m# Reset our crash handler in place\u001b[0m                                        \u001b[31m│\u001b[0m\n",
       "\u001b[31m│\u001b[0m   \u001b[2m3421 \u001b[0m\u001b[2m│   │   │   │   \u001b[0msys.excepthook = old_excepthook                                           \u001b[31m│\u001b[0m\n",
       "\u001b[31m│\u001b[0m \u001b[33m<ipython-input-32-5dfc63722a79>\u001b[0m:\u001b[94m28\u001b[0m in \u001b[92m<module>\u001b[0m                                                   \u001b[31m│\u001b[0m\n",
       "\u001b[31m│\u001b[0m                                                                                                  \u001b[31m│\u001b[0m\n",
       "\u001b[31m│\u001b[0m \u001b[2;33m/home/denis/anaconda3/lib/python3.7/site-packages/torch/\u001b[0m\u001b[1;33m_tensor.py\u001b[0m:\u001b[94m396\u001b[0m in \u001b[92mbackward\u001b[0m               \u001b[31m│\u001b[0m\n",
       "\u001b[31m│\u001b[0m                                                                                                  \u001b[31m│\u001b[0m\n",
       "\u001b[31m│\u001b[0m   \u001b[2m 393 \u001b[0m\u001b[2m│   │   │   │   \u001b[0mretain_graph=retain_graph,                                                \u001b[31m│\u001b[0m\n",
       "\u001b[31m│\u001b[0m   \u001b[2m 394 \u001b[0m\u001b[2m│   │   │   │   \u001b[0mcreate_graph=create_graph,                                                \u001b[31m│\u001b[0m\n",
       "\u001b[31m│\u001b[0m   \u001b[2m 395 \u001b[0m\u001b[2m│   │   │   │   \u001b[0minputs=inputs)                                                            \u001b[31m│\u001b[0m\n",
       "\u001b[31m│\u001b[0m \u001b[31m❱ \u001b[0m 396 \u001b[2m│   │   \u001b[0mtorch.autograd.backward(\u001b[96mself\u001b[0m, gradient, retain_graph, create_graph, inputs=input  \u001b[31m│\u001b[0m\n",
       "\u001b[31m│\u001b[0m   \u001b[2m 397 \u001b[0m\u001b[2m│   \u001b[0m                                                                                      \u001b[31m│\u001b[0m\n",
       "\u001b[31m│\u001b[0m   \u001b[2m 398 \u001b[0m\u001b[2m│   \u001b[0m\u001b[94mdef\u001b[0m \u001b[92mregister_hook\u001b[0m(\u001b[96mself\u001b[0m, hook):                                                        \u001b[31m│\u001b[0m\n",
       "\u001b[31m│\u001b[0m   \u001b[2m 399 \u001b[0m\u001b[2m│   │   \u001b[0m\u001b[33mr\u001b[0m\u001b[33m\"\"\"Registers a backward hook.\u001b[0m                                                    \u001b[31m│\u001b[0m\n",
       "\u001b[31m│\u001b[0m                                                                                                  \u001b[31m│\u001b[0m\n",
       "\u001b[31m│\u001b[0m \u001b[2;33m/home/denis/anaconda3/lib/python3.7/site-packages/torch/autograd/\u001b[0m\u001b[1;33m__init__.py\u001b[0m:\u001b[94m175\u001b[0m in \u001b[92mbackward\u001b[0m     \u001b[31m│\u001b[0m\n",
       "\u001b[31m│\u001b[0m                                                                                                  \u001b[31m│\u001b[0m\n",
       "\u001b[31m│\u001b[0m   \u001b[2m172 \u001b[0m\u001b[2m│   \u001b[0m\u001b[2m# calls in the traceback and some print out the last line\u001b[0m                              \u001b[31m│\u001b[0m\n",
       "\u001b[31m│\u001b[0m   \u001b[2m173 \u001b[0m\u001b[2m│   \u001b[0mVariable._execution_engine.run_backward(  \u001b[2m# Calls into the C++ engine to run the bac\u001b[0m   \u001b[31m│\u001b[0m\n",
       "\u001b[31m│\u001b[0m   \u001b[2m174 \u001b[0m\u001b[2m│   │   \u001b[0mtensors, grad_tensors_, retain_graph, create_graph, inputs,                        \u001b[31m│\u001b[0m\n",
       "\u001b[31m│\u001b[0m \u001b[31m❱ \u001b[0m175 \u001b[2m│   │   \u001b[0mallow_unreachable=\u001b[94mTrue\u001b[0m, accumulate_grad=\u001b[94mTrue\u001b[0m)  \u001b[2m# Calls into the C++ engine to ru\u001b[0m   \u001b[31m│\u001b[0m\n",
       "\u001b[31m│\u001b[0m   \u001b[2m176 \u001b[0m                                                                                           \u001b[31m│\u001b[0m\n",
       "\u001b[31m│\u001b[0m   \u001b[2m177 \u001b[0m\u001b[94mdef\u001b[0m \u001b[92mgrad\u001b[0m(                                                                                  \u001b[31m│\u001b[0m\n",
       "\u001b[31m│\u001b[0m   \u001b[2m178 \u001b[0m\u001b[2m│   \u001b[0moutputs: _TensorOrTensors,                                                             \u001b[31m│\u001b[0m\n",
       "\u001b[31m╰──────────────────────────────────────────────────────────────────────────────────────────────────╯\u001b[0m\n",
       "\u001b[1;91mKeyboardInterrupt\u001b[0m\n",
       "\n",
       "\u001b[3mDuring handling of the above exception, another exception occurred:\u001b[0m\n",
       "\n",
       "\u001b[31m╭─\u001b[0m\u001b[31m──────────────────────────────\u001b[0m\u001b[31m \u001b[0m\u001b[1;31mTraceback \u001b[0m\u001b[1;2;31m(most recent call last)\u001b[0m\u001b[31m \u001b[0m\u001b[31m───────────────────────────────\u001b[0m\u001b[31m─╮\u001b[0m\n",
       "\u001b[31m│\u001b[0m \u001b[2;33m/home/denis/anaconda3/lib/python3.7/site-packages/IPython/core/\u001b[0m\u001b[1;33minteractiveshell.py\u001b[0m:\u001b[94m2045\u001b[0m in       \u001b[31m│\u001b[0m\n",
       "\u001b[31m│\u001b[0m \u001b[92mshowtraceback\u001b[0m                                                                                    \u001b[31m│\u001b[0m\n",
       "\u001b[31m│\u001b[0m                                                                                                  \u001b[31m│\u001b[0m\n",
       "\u001b[31m│\u001b[0m   \u001b[2m2042 \u001b[0m\u001b[2m│   │   │   │   │   │   \u001b[0m\u001b[2m# Exception classes can customise their traceback - we\u001b[0m            \u001b[31m│\u001b[0m\n",
       "\u001b[31m│\u001b[0m   \u001b[2m2043 \u001b[0m\u001b[2m│   │   │   │   │   │   \u001b[0m\u001b[2m# use this in IPython.parallel for exceptions occurring\u001b[0m           \u001b[31m│\u001b[0m\n",
       "\u001b[31m│\u001b[0m   \u001b[2m2044 \u001b[0m\u001b[2m│   │   │   │   │   │   \u001b[0m\u001b[2m# in the engines. This should return a list of strings.\u001b[0m           \u001b[31m│\u001b[0m\n",
       "\u001b[31m│\u001b[0m \u001b[31m❱ \u001b[0m2045 \u001b[2m│   │   │   │   │   │   \u001b[0mstb = value._render_traceback_()                                  \u001b[31m│\u001b[0m\n",
       "\u001b[31m│\u001b[0m   \u001b[2m2046 \u001b[0m\u001b[2m│   │   │   │   │   \u001b[0m\u001b[94mexcept\u001b[0m \u001b[96mException\u001b[0m:                                                     \u001b[31m│\u001b[0m\n",
       "\u001b[31m│\u001b[0m   \u001b[2m2047 \u001b[0m\u001b[2m│   │   │   │   │   │   \u001b[0mstb = \u001b[96mself\u001b[0m.InteractiveTB.structured_traceback(etype,              \u001b[31m│\u001b[0m\n",
       "\u001b[31m│\u001b[0m   \u001b[2m2048 \u001b[0m\u001b[2m│   │   │   │   │   │   │   │   │   │   │   \u001b[0mvalue, tb, tb_offset=tb_offset)               \u001b[31m│\u001b[0m\n",
       "\u001b[31m╰──────────────────────────────────────────────────────────────────────────────────────────────────╯\u001b[0m\n",
       "\u001b[1;91mAttributeError: \u001b[0m\u001b[32m'KeyboardInterrupt'\u001b[0m object has no attribute \u001b[32m'_render_traceback_'\u001b[0m\n",
       "\n",
       "\u001b[3mDuring handling of the above exception, another exception occurred:\u001b[0m\n",
       "\n",
       "\u001b[31m╭─\u001b[0m\u001b[31m──────────────────────────────\u001b[0m\u001b[31m \u001b[0m\u001b[1;31mTraceback \u001b[0m\u001b[1;2;31m(most recent call last)\u001b[0m\u001b[31m \u001b[0m\u001b[31m───────────────────────────────\u001b[0m\u001b[31m─╮\u001b[0m\n",
       "\u001b[31m│\u001b[0m \u001b[2;33m/home/denis/anaconda3/lib/python3.7/site-packages/IPython/core/\u001b[0m\u001b[1;33minteractiveshell.py\u001b[0m:\u001b[94m3338\u001b[0m in       \u001b[31m│\u001b[0m\n",
       "\u001b[31m│\u001b[0m \u001b[92mrun_ast_nodes\u001b[0m                                                                                    \u001b[31m│\u001b[0m\n",
       "\u001b[31m│\u001b[0m                                                                                                  \u001b[31m│\u001b[0m\n",
       "\u001b[31m│\u001b[0m   \u001b[2m3335 \u001b[0m\u001b[2m│   │   │   │   │   \u001b[0m\u001b[94mwith\u001b[0m compiler.extra_flags(\u001b[96mgetattr\u001b[0m(ast, \u001b[33m'\u001b[0m\u001b[33mPyCF_ALLOW_TOP_LEVEL_AWAIT\u001b[0m\u001b[33m'\u001b[0m,  \u001b[31m│\u001b[0m\n",
       "\u001b[31m│\u001b[0m   \u001b[2m3336 \u001b[0m\u001b[2m│   │   │   │   │   │   \u001b[0mcode = compiler(mod, cell_name, mode)                             \u001b[31m│\u001b[0m\n",
       "\u001b[31m│\u001b[0m   \u001b[2m3337 \u001b[0m\u001b[2m│   │   │   │   │   │   \u001b[0masy = compare(code)                                               \u001b[31m│\u001b[0m\n",
       "\u001b[31m│\u001b[0m \u001b[31m❱ \u001b[0m3338 \u001b[2m│   │   │   │   │   \u001b[0m\u001b[94mif\u001b[0m (\u001b[94mawait\u001b[0m \u001b[96mself\u001b[0m.run_code(code, result,  async_=asy)):                  \u001b[31m│\u001b[0m\n",
       "\u001b[31m│\u001b[0m   \u001b[2m3339 \u001b[0m\u001b[2m│   │   │   │   │   │   \u001b[0m\u001b[94mreturn\u001b[0m \u001b[94mTrue\u001b[0m                                                       \u001b[31m│\u001b[0m\n",
       "\u001b[31m│\u001b[0m   \u001b[2m3340 \u001b[0m\u001b[2m│   │   │   \u001b[0m                                                                              \u001b[31m│\u001b[0m\n",
       "\u001b[31m│\u001b[0m   \u001b[2m3341 \u001b[0m\u001b[2m│   │   │   \u001b[0m\u001b[2m# Flush softspace\u001b[0m                                                             \u001b[31m│\u001b[0m\n",
       "\u001b[31m│\u001b[0m                                                                                                  \u001b[31m│\u001b[0m\n",
       "\u001b[31m│\u001b[0m \u001b[2;33m/home/denis/anaconda3/lib/python3.7/site-packages/IPython/core/\u001b[0m\u001b[1;33minteractiveshell.py\u001b[0m:\u001b[94m3435\u001b[0m in       \u001b[31m│\u001b[0m\n",
       "\u001b[31m│\u001b[0m \u001b[92mrun_code\u001b[0m                                                                                         \u001b[31m│\u001b[0m\n",
       "\u001b[31m│\u001b[0m                                                                                                  \u001b[31m│\u001b[0m\n",
       "\u001b[31m│\u001b[0m   \u001b[2m3432 \u001b[0m\u001b[2m│   │   \u001b[0m\u001b[94mexcept\u001b[0m:                                                                           \u001b[31m│\u001b[0m\n",
       "\u001b[31m│\u001b[0m   \u001b[2m3433 \u001b[0m\u001b[2m│   │   │   \u001b[0m\u001b[94mif\u001b[0m result \u001b[95mis\u001b[0m \u001b[95mnot\u001b[0m \u001b[94mNone\u001b[0m:                                                        \u001b[31m│\u001b[0m\n",
       "\u001b[31m│\u001b[0m   \u001b[2m3434 \u001b[0m\u001b[2m│   │   │   │   \u001b[0mresult.error_in_exec = sys.exc_info()[\u001b[94m1\u001b[0m]                                  \u001b[31m│\u001b[0m\n",
       "\u001b[31m│\u001b[0m \u001b[31m❱ \u001b[0m3435 \u001b[2m│   │   │   \u001b[0m\u001b[96mself\u001b[0m.showtraceback(running_compiled_code=\u001b[94mTrue\u001b[0m)                                \u001b[31m│\u001b[0m\n",
       "\u001b[31m│\u001b[0m   \u001b[2m3436 \u001b[0m\u001b[2m│   │   \u001b[0m\u001b[94melse\u001b[0m:                                                                             \u001b[31m│\u001b[0m\n",
       "\u001b[31m│\u001b[0m   \u001b[2m3437 \u001b[0m\u001b[2m│   │   │   \u001b[0moutflag = \u001b[94mFalse\u001b[0m                                                               \u001b[31m│\u001b[0m\n",
       "\u001b[31m│\u001b[0m   \u001b[2m3438 \u001b[0m\u001b[2m│   │   \u001b[0m\u001b[94mreturn\u001b[0m outflag                                                                    \u001b[31m│\u001b[0m\n",
       "\u001b[31m│\u001b[0m                                                                                                  \u001b[31m│\u001b[0m\n",
       "\u001b[31m│\u001b[0m \u001b[2;33m/home/denis/anaconda3/lib/python3.7/site-packages/rich/\u001b[0m\u001b[1;33mtraceback.py\u001b[0m:\u001b[94m99\u001b[0m in \u001b[92mipy_show_traceback\u001b[0m     \u001b[31m│\u001b[0m\n",
       "\u001b[31m│\u001b[0m                                                                                                  \u001b[31m│\u001b[0m\n",
       "\u001b[31m│\u001b[0m   \u001b[2m 96 \u001b[0m\u001b[2m│   │   │   \u001b[0m\u001b[33m\"\"\"wrap the default ip.showtraceback to store info for ip._showtraceback\"\"\"\u001b[0m    \u001b[31m│\u001b[0m\n",
       "\u001b[31m│\u001b[0m   \u001b[2m 97 \u001b[0m\u001b[2m│   │   │   \u001b[0m\u001b[94mnonlocal\u001b[0m tb_data                                                               \u001b[31m│\u001b[0m\n",
       "\u001b[31m│\u001b[0m   \u001b[2m 98 \u001b[0m\u001b[2m│   │   │   \u001b[0mtb_data = kwargs                                                               \u001b[31m│\u001b[0m\n",
       "\u001b[31m│\u001b[0m \u001b[31m❱ \u001b[0m 99 \u001b[2m│   │   │   \u001b[0mdefault_showtraceback(*args, **kwargs)                                         \u001b[31m│\u001b[0m\n",
       "\u001b[31m│\u001b[0m   \u001b[2m100 \u001b[0m\u001b[2m│   │   \u001b[0m                                                                                   \u001b[31m│\u001b[0m\n",
       "\u001b[31m│\u001b[0m   \u001b[2m101 \u001b[0m\u001b[2m│   │   \u001b[0m\u001b[94mdef\u001b[0m \u001b[92mipy_display_traceback\u001b[0m(                                                         \u001b[31m│\u001b[0m\n",
       "\u001b[31m│\u001b[0m   \u001b[2m102 \u001b[0m\u001b[2m│   │   │   \u001b[0m*args: Any, is_syntax: \u001b[96mbool\u001b[0m = \u001b[94mFalse\u001b[0m, **kwargs: Any                             \u001b[31m│\u001b[0m\n",
       "\u001b[31m│\u001b[0m                                                                                                  \u001b[31m│\u001b[0m\n",
       "\u001b[31m│\u001b[0m \u001b[2;33m/home/denis/anaconda3/lib/python3.7/site-packages/IPython/core/\u001b[0m\u001b[1;33minteractiveshell.py\u001b[0m:\u001b[94m2048\u001b[0m in       \u001b[31m│\u001b[0m\n",
       "\u001b[31m│\u001b[0m \u001b[92mshowtraceback\u001b[0m                                                                                    \u001b[31m│\u001b[0m\n",
       "\u001b[31m│\u001b[0m                                                                                                  \u001b[31m│\u001b[0m\n",
       "\u001b[31m│\u001b[0m   \u001b[2m2045 \u001b[0m\u001b[2m│   │   │   │   │   │   \u001b[0mstb = value._render_traceback_()                                  \u001b[31m│\u001b[0m\n",
       "\u001b[31m│\u001b[0m   \u001b[2m2046 \u001b[0m\u001b[2m│   │   │   │   │   \u001b[0m\u001b[94mexcept\u001b[0m \u001b[96mException\u001b[0m:                                                     \u001b[31m│\u001b[0m\n",
       "\u001b[31m│\u001b[0m   \u001b[2m2047 \u001b[0m\u001b[2m│   │   │   │   │   │   \u001b[0mstb = \u001b[96mself\u001b[0m.InteractiveTB.structured_traceback(etype,              \u001b[31m│\u001b[0m\n",
       "\u001b[31m│\u001b[0m \u001b[31m❱ \u001b[0m2048 \u001b[2m│   │   │   │   │   │   │   │   │   │   │   \u001b[0mvalue, tb, tb_offset=tb_offset)               \u001b[31m│\u001b[0m\n",
       "\u001b[31m│\u001b[0m   \u001b[2m2049 \u001b[0m\u001b[2m│   │   │   │   │   \u001b[0m                                                                      \u001b[31m│\u001b[0m\n",
       "\u001b[31m│\u001b[0m   \u001b[2m2050 \u001b[0m\u001b[2m│   │   │   │   │   \u001b[0m\u001b[96mself\u001b[0m._showtraceback(etype, value, stb)                                \u001b[31m│\u001b[0m\n",
       "\u001b[31m│\u001b[0m   \u001b[2m2051 \u001b[0m\u001b[2m│   │   │   │   │   \u001b[0m\u001b[94mif\u001b[0m \u001b[96mself\u001b[0m.call_pdb:                                                     \u001b[31m│\u001b[0m\n",
       "\u001b[31m│\u001b[0m                                                                                                  \u001b[31m│\u001b[0m\n",
       "\u001b[31m│\u001b[0m \u001b[2;33m/home/denis/anaconda3/lib/python3.7/site-packages/IPython/core/\u001b[0m\u001b[1;33multratb.py\u001b[0m:\u001b[94m1437\u001b[0m in                \u001b[31m│\u001b[0m\n",
       "\u001b[31m│\u001b[0m \u001b[92mstructured_traceback\u001b[0m                                                                             \u001b[31m│\u001b[0m\n",
       "\u001b[31m│\u001b[0m                                                                                                  \u001b[31m│\u001b[0m\n",
       "\u001b[31m│\u001b[0m   \u001b[2m1434 \u001b[0m\u001b[2m│   │   \u001b[0m\u001b[94melse\u001b[0m:                                                                             \u001b[31m│\u001b[0m\n",
       "\u001b[31m│\u001b[0m   \u001b[2m1435 \u001b[0m\u001b[2m│   │   │   \u001b[0m\u001b[96mself\u001b[0m.tb = tb                                                                  \u001b[31m│\u001b[0m\n",
       "\u001b[31m│\u001b[0m   \u001b[2m1436 \u001b[0m\u001b[2m│   │   \u001b[0m\u001b[94mreturn\u001b[0m FormattedTB.structured_traceback(                                          \u001b[31m│\u001b[0m\n",
       "\u001b[31m│\u001b[0m \u001b[31m❱ \u001b[0m1437 \u001b[2m│   │   │   \u001b[0m\u001b[96mself\u001b[0m, etype, value, tb, tb_offset, number_of_lines_of_context)                \u001b[31m│\u001b[0m\n",
       "\u001b[31m│\u001b[0m   \u001b[2m1438 \u001b[0m                                                                                          \u001b[31m│\u001b[0m\n",
       "\u001b[31m│\u001b[0m   \u001b[2m1439 \u001b[0m                                                                                          \u001b[31m│\u001b[0m\n",
       "\u001b[31m│\u001b[0m   \u001b[2m1440 \u001b[0m\u001b[2m#---------------------------------------------------------------------------\u001b[0m              \u001b[31m│\u001b[0m\n",
       "\u001b[31m│\u001b[0m                                                                                                  \u001b[31m│\u001b[0m\n",
       "\u001b[31m│\u001b[0m \u001b[2;33m/home/denis/anaconda3/lib/python3.7/site-packages/IPython/core/\u001b[0m\u001b[1;33multratb.py\u001b[0m:\u001b[94m1337\u001b[0m in                \u001b[31m│\u001b[0m\n",
       "\u001b[31m│\u001b[0m \u001b[92mstructured_traceback\u001b[0m                                                                             \u001b[31m│\u001b[0m\n",
       "\u001b[31m│\u001b[0m                                                                                                  \u001b[31m│\u001b[0m\n",
       "\u001b[31m│\u001b[0m   \u001b[2m1334 \u001b[0m\u001b[2m│   │   \u001b[0m\u001b[94mif\u001b[0m mode \u001b[95min\u001b[0m \u001b[96mself\u001b[0m.verbose_modes:                                                    \u001b[31m│\u001b[0m\n",
       "\u001b[31m│\u001b[0m   \u001b[2m1335 \u001b[0m\u001b[2m│   │   │   \u001b[0m\u001b[2m# Verbose modes need a full traceback\u001b[0m                                         \u001b[31m│\u001b[0m\n",
       "\u001b[31m│\u001b[0m   \u001b[2m1336 \u001b[0m\u001b[2m│   │   │   \u001b[0m\u001b[94mreturn\u001b[0m VerboseTB.structured_traceback(                                        \u001b[31m│\u001b[0m\n",
       "\u001b[31m│\u001b[0m \u001b[31m❱ \u001b[0m1337 \u001b[2m│   │   │   │   \u001b[0m\u001b[96mself\u001b[0m, etype, value, tb, tb_offset, number_of_lines_of_context             \u001b[31m│\u001b[0m\n",
       "\u001b[31m│\u001b[0m   \u001b[2m1338 \u001b[0m\u001b[2m│   │   │   \u001b[0m)                                                                             \u001b[31m│\u001b[0m\n",
       "\u001b[31m│\u001b[0m   \u001b[2m1339 \u001b[0m\u001b[2m│   │   \u001b[0m\u001b[94melif\u001b[0m mode == \u001b[33m'\u001b[0m\u001b[33mMinimal\u001b[0m\u001b[33m'\u001b[0m:                                                           \u001b[31m│\u001b[0m\n",
       "\u001b[31m│\u001b[0m   \u001b[2m1340 \u001b[0m\u001b[2m│   │   │   \u001b[0m\u001b[94mreturn\u001b[0m ListTB.get_exception_only(\u001b[96mself\u001b[0m, etype, value)                          \u001b[31m│\u001b[0m\n",
       "\u001b[31m│\u001b[0m                                                                                                  \u001b[31m│\u001b[0m\n",
       "\u001b[31m│\u001b[0m \u001b[2;33m/home/denis/anaconda3/lib/python3.7/site-packages/IPython/core/\u001b[0m\u001b[1;33multratb.py\u001b[0m:\u001b[94m1194\u001b[0m in                \u001b[31m│\u001b[0m\n",
       "\u001b[31m│\u001b[0m \u001b[92mstructured_traceback\u001b[0m                                                                             \u001b[31m│\u001b[0m\n",
       "\u001b[31m│\u001b[0m                                                                                                  \u001b[31m│\u001b[0m\n",
       "\u001b[31m│\u001b[0m   \u001b[2m1191 \u001b[0m\u001b[2m│   │   \u001b[0m\u001b[33m\"\"\"Return a nice text document describing the traceback.\"\"\"\u001b[0m                       \u001b[31m│\u001b[0m\n",
       "\u001b[31m│\u001b[0m   \u001b[2m1192 \u001b[0m\u001b[2m│   │   \u001b[0m                                                                                  \u001b[31m│\u001b[0m\n",
       "\u001b[31m│\u001b[0m   \u001b[2m1193 \u001b[0m\u001b[2m│   │   \u001b[0mformatted_exception = \u001b[96mself\u001b[0m.format_exception_as_a_whole(etype, evalue, etb, numbe  \u001b[31m│\u001b[0m\n",
       "\u001b[31m│\u001b[0m \u001b[31m❱ \u001b[0m1194 \u001b[2m│   │   │   │   │   │   │   │   │   │   │   │   │   │   │      \u001b[0mtb_offset)                 \u001b[31m│\u001b[0m\n",
       "\u001b[31m│\u001b[0m   \u001b[2m1195 \u001b[0m\u001b[2m│   │   \u001b[0m                                                                                  \u001b[31m│\u001b[0m\n",
       "\u001b[31m│\u001b[0m   \u001b[2m1196 \u001b[0m\u001b[2m│   │   \u001b[0mcolors = \u001b[96mself\u001b[0m.Colors  \u001b[2m# just a shorthand + quicker name lookup\u001b[0m                    \u001b[31m│\u001b[0m\n",
       "\u001b[31m│\u001b[0m   \u001b[2m1197 \u001b[0m\u001b[2m│   │   \u001b[0mcolorsnormal = colors.Normal  \u001b[2m# used a lot\u001b[0m                                        \u001b[31m│\u001b[0m\n",
       "\u001b[31m│\u001b[0m                                                                                                  \u001b[31m│\u001b[0m\n",
       "\u001b[31m│\u001b[0m \u001b[2;33m/home/denis/anaconda3/lib/python3.7/site-packages/IPython/core/\u001b[0m\u001b[1;33multratb.py\u001b[0m:\u001b[94m1151\u001b[0m in                \u001b[31m│\u001b[0m\n",
       "\u001b[31m│\u001b[0m \u001b[92mformat_exception_as_a_whole\u001b[0m                                                                      \u001b[31m│\u001b[0m\n",
       "\u001b[31m│\u001b[0m                                                                                                  \u001b[31m│\u001b[0m\n",
       "\u001b[31m│\u001b[0m   \u001b[2m1148 \u001b[0m\u001b[2m│   │   \u001b[0mrecords = \u001b[96mself\u001b[0m.get_records(etb, number_of_lines_of_context, tb_offset)            \u001b[31m│\u001b[0m\n",
       "\u001b[31m│\u001b[0m   \u001b[2m1149 \u001b[0m\u001b[2m│   │   \u001b[0m                                                                                  \u001b[31m│\u001b[0m\n",
       "\u001b[31m│\u001b[0m   \u001b[2m1150 \u001b[0m\u001b[2m│   │   \u001b[0m                                                                                  \u001b[31m│\u001b[0m\n",
       "\u001b[31m│\u001b[0m \u001b[31m❱ \u001b[0m1151 \u001b[2m│   │   \u001b[0mlast_unique, recursion_repeat = find_recursion(orig_etype, evalue, records)       \u001b[31m│\u001b[0m\n",
       "\u001b[31m│\u001b[0m   \u001b[2m1152 \u001b[0m\u001b[2m│   │   \u001b[0m                                                                                  \u001b[31m│\u001b[0m\n",
       "\u001b[31m│\u001b[0m   \u001b[2m1153 \u001b[0m\u001b[2m│   │   \u001b[0mframes = \u001b[96mself\u001b[0m.format_records(records, last_unique, recursion_repeat)              \u001b[31m│\u001b[0m\n",
       "\u001b[31m│\u001b[0m   \u001b[2m1154 \u001b[0m                                                                                          \u001b[31m│\u001b[0m\n",
       "\u001b[31m│\u001b[0m                                                                                                  \u001b[31m│\u001b[0m\n",
       "\u001b[31m│\u001b[0m \u001b[2;33m/home/denis/anaconda3/lib/python3.7/site-packages/IPython/core/\u001b[0m\u001b[1;33multratb.py\u001b[0m:\u001b[94m451\u001b[0m in \u001b[92mfind_recursion\u001b[0m  \u001b[31m│\u001b[0m\n",
       "\u001b[31m│\u001b[0m                                                                                                  \u001b[31m│\u001b[0m\n",
       "\u001b[31m│\u001b[0m   \u001b[2m 448 \u001b[0m\u001b[2m│   \u001b[0m\u001b[2m# quarter of the traceback (250 frames by default) is repeats, and find the\u001b[0m           \u001b[31m│\u001b[0m\n",
       "\u001b[31m│\u001b[0m   \u001b[2m 449 \u001b[0m\u001b[2m│   \u001b[0m\u001b[2m# first frame (from in to out) that looks different.\u001b[0m                                  \u001b[31m│\u001b[0m\n",
       "\u001b[31m│\u001b[0m   \u001b[2m 450 \u001b[0m\u001b[2m│   \u001b[0m\u001b[94mif\u001b[0m \u001b[95mnot\u001b[0m is_recursion_error(etype, value, records):                                     \u001b[31m│\u001b[0m\n",
       "\u001b[31m│\u001b[0m \u001b[31m❱ \u001b[0m 451 \u001b[2m│   │   \u001b[0m\u001b[94mreturn\u001b[0m \u001b[96mlen\u001b[0m(records), \u001b[94m0\u001b[0m                                                            \u001b[31m│\u001b[0m\n",
       "\u001b[31m│\u001b[0m   \u001b[2m 452 \u001b[0m\u001b[2m│   \u001b[0m                                                                                      \u001b[31m│\u001b[0m\n",
       "\u001b[31m│\u001b[0m   \u001b[2m 453 \u001b[0m\u001b[2m│   \u001b[0m\u001b[2m# Select filename, lineno, func_name to track frames with\u001b[0m                             \u001b[31m│\u001b[0m\n",
       "\u001b[31m│\u001b[0m   \u001b[2m 454 \u001b[0m\u001b[2m│   \u001b[0mrecords = [r[\u001b[94m1\u001b[0m:\u001b[94m4\u001b[0m] \u001b[94mfor\u001b[0m r \u001b[95min\u001b[0m records]                                                   \u001b[31m│\u001b[0m\n",
       "\u001b[31m╰──────────────────────────────────────────────────────────────────────────────────────────────────╯\u001b[0m\n",
       "\u001b[1;91mTypeError: \u001b[0mobject of type \u001b[32m'NoneType'\u001b[0m has no \u001b[1;35mlen\u001b[0m\u001b[1m(\u001b[0m\u001b[1m)\u001b[0m\n"
      ]
     },
     "metadata": {},
     "output_type": "display_data"
    }
   ],
   "source": [
    "checkpoint_name='models/model_1'\n",
    "num_epochs = 100\n",
    "\n",
    "crnn = CRNN(alphabet=char_to_id, cnn_input_size=SIZE_M[::-1], cnn_output_len=80,\n",
    "            rnn_bidirectional=True, rnn_hidden_size=128, rnn_dropout=0.3)\n",
    "crnn.to(device)\n",
    "\n",
    "optimizer = torch.optim.Adam(crnn.parameters(), lr=3e-3, amsgrad=True, weight_decay=1e-4)\n",
    "\n",
    "\n",
    "train_model(device, crnn, optimizer, train_dataloader, val_dataloader,\n",
    "            id_to_char, num_epochs=num_epochs, checkpoint_name=checkpoint_name)"
   ]
  },
  {
   "cell_type": "markdown",
   "metadata": {},
   "source": [
    "### Получим первые сабмит"
   ]
  },
  {
   "cell_type": "code",
   "execution_count": 39,
   "metadata": {},
   "outputs": [
    {
     "data": {
      "application/vnd.jupyter.widget-view+json": {
       "model_id": "615912d946d64275b69a61343782d5c3",
       "version_major": 2,
       "version_minor": 0
      },
      "text/plain": [
       "  0%|          | 0/415 [00:00<?, ?it/s]"
      ]
     },
     "metadata": {},
     "output_type": "display_data"
    },
    {
     "data": {
      "text/html": [
       "<div>\n",
       "<style scoped>\n",
       "    .dataframe tbody tr th:only-of-type {\n",
       "        vertical-align: middle;\n",
       "    }\n",
       "\n",
       "    .dataframe tbody tr th {\n",
       "        vertical-align: top;\n",
       "    }\n",
       "\n",
       "    .dataframe thead th {\n",
       "        text-align: right;\n",
       "    }\n",
       "</style>\n",
       "<table border=\"1\" class=\"dataframe\">\n",
       "  <thead>\n",
       "    <tr style=\"text-align: right;\">\n",
       "      <th></th>\n",
       "      <th>Id</th>\n",
       "      <th>Predicted</th>\n",
       "    </tr>\n",
       "  </thead>\n",
       "  <tbody>\n",
       "    <tr>\n",
       "      <th>0</th>\n",
       "      <td>1.jpg</td>\n",
       "      <td>рору,</td>\n",
       "    </tr>\n",
       "    <tr>\n",
       "      <th>1</th>\n",
       "      <td>2.jpg</td>\n",
       "      <td>M</td>\n",
       "    </tr>\n",
       "    <tr>\n",
       "      <th>2</th>\n",
       "      <td>3.jpg</td>\n",
       "      <td>LASHAN BANK</td>\n",
       "    </tr>\n",
       "    <tr>\n",
       "      <th>3</th>\n",
       "      <td>4.jpg</td>\n",
       "      <td>Moketumne</td>\n",
       "    </tr>\n",
       "    <tr>\n",
       "      <th>4</th>\n",
       "      <td>5.jpg</td>\n",
       "      <td>BAO</td>\n",
       "    </tr>\n",
       "    <tr>\n",
       "      <th>...</th>\n",
       "      <td>...</td>\n",
       "      <td>...</td>\n",
       "    </tr>\n",
       "    <tr>\n",
       "      <th>52994</th>\n",
       "      <td>52996.jpg</td>\n",
       "      <td>Р</td>\n",
       "    </tr>\n",
       "    <tr>\n",
       "      <th>52995</th>\n",
       "      <td>52997.jpg</td>\n",
       "      <td>TUAN</td>\n",
       "    </tr>\n",
       "    <tr>\n",
       "      <th>52996</th>\n",
       "      <td>52998.jpg</td>\n",
       "      <td>1505</td>\n",
       "    </tr>\n",
       "    <tr>\n",
       "      <th>52997</th>\n",
       "      <td>52999.jpg</td>\n",
       "      <td>M</td>\n",
       "    </tr>\n",
       "    <tr>\n",
       "      <th>52998</th>\n",
       "      <td>53000.jpg</td>\n",
       "      <td>запре</td>\n",
       "    </tr>\n",
       "  </tbody>\n",
       "</table>\n",
       "<p>52999 rows × 2 columns</p>\n",
       "</div>"
      ],
      "text/plain": [
       "              Id    Predicted\n",
       "0          1.jpg        рору,\n",
       "1          2.jpg            M\n",
       "2          3.jpg  LASHAN BANK\n",
       "3          4.jpg    Moketumne\n",
       "4          5.jpg          BAO\n",
       "...          ...          ...\n",
       "52994  52996.jpg            Р\n",
       "52995  52997.jpg         TUAN\n",
       "52996  52998.jpg         1505\n",
       "52997  52999.jpg            M\n",
       "52998  53000.jpg        запре\n",
       "\n",
       "[52999 rows x 2 columns]"
      ]
     },
     "execution_count": 39,
     "metadata": {},
     "output_type": "execute_result"
    }
   ],
   "source": [
    "submission_df = pd.read_csv(os.path.join(DATA_PATH, 'sample_submission.csv')) \\\n",
    "    .rename(columns={'Predicted': 'Expected'})\n",
    "\n",
    "test_dataset = RecognitionDataset(submission_df, char_to_id=char_to_id, folder=TEST_IMAGES, \n",
    "                                   transforms=train_transform)\n",
    "\n",
    "test_batch_size = 128\n",
    "num_workers = 6\n",
    "\n",
    "test_dataloader = DataLoader(test_dataset, \n",
    "                            batch_size=test_batch_size, shuffle=False, num_workers=num_workers, pin_memory=True, \n",
    "                            drop_last=False, collate_fn=collate_fn)\n",
    "\n",
    "\n",
    "load_checkpoint_name = 'models/model_1'\n",
    "crnn = load_checkpoint(load_checkpoint_name)\n",
    "crnn.to(device)\n",
    "\n",
    "result_path = os.path.join(RESULTS_PATH, 'submission_1_(2_0215).csv')\n",
    "result = get_predictions(device, crnn, test_dataloader, id_to_char, submission_df, result_path)\n",
    "result"
   ]
  },
  {
   "cell_type": "markdown",
   "metadata": {},
   "source": [
    "### Ещё немного пообучаем модель"
   ]
  },
  {
   "cell_type": "markdown",
   "metadata": {},
   "source": [
    "Будем обучать модель, последовательно снижая lr. Это по идее должно дать некоторый прирост. Тем более, в нашем случае, кажется изначально мы учили модель с высоким lr."
   ]
  },
  {
   "cell_type": "code",
   "execution_count": 20,
   "metadata": {},
   "outputs": [
    {
     "data": {
      "application/vnd.jupyter.widget-view+json": {
       "model_id": "cd9e583c7866468b8c40b2aaa782fe53",
       "version_major": 2,
       "version_minor": 0
      },
      "text/plain": [
       "  0%|          | 0/701 [00:00<?, ?it/s]"
      ]
     },
     "metadata": {},
     "output_type": "display_data"
    },
    {
     "name": "stdout",
     "output_type": "stream",
     "text": [
      "0 train: 1.0882028852311758\n"
     ]
    },
    {
     "data": {
      "application/vnd.jupyter.widget-view+json": {
       "model_id": "66b2ffe557c04cac911232091e19d18d",
       "version_major": 2,
       "version_minor": 0
      },
      "text/plain": [
       "  0%|          | 0/214 [00:00<?, ?it/s]"
      ]
     },
     "metadata": {},
     "output_type": "display_data"
    },
    {
     "name": "stdout",
     "output_type": "stream",
     "text": [
      "0 validation loss: 1.2095745826993034\n",
      "0 validation lev_mean: 2.031513374862587\n"
     ]
    }
   ],
   "source": [
    "num_epochs = 1\n",
    "load_checkpoint_name = 'models/model_1'\n",
    "checkpoint_name = 'models/model_2'\n",
    "\n",
    "crnn = load_checkpoint(load_checkpoint_name)\n",
    "crnn.to(device)\n",
    "\n",
    "optimizer = torch.optim.Adam(crnn.parameters(), lr=2.3e-3, amsgrad=True, weight_decay=1e-4)\n",
    "\n",
    "\n",
    "train_model(device, crnn, optimizer, train_dataloader, val_dataloader,\n",
    "            id_to_char, num_epochs=num_epochs, checkpoint_name=checkpoint_name)"
   ]
  },
  {
   "cell_type": "code",
   "execution_count": 21,
   "metadata": {},
   "outputs": [
    {
     "data": {
      "application/vnd.jupyter.widget-view+json": {
       "model_id": "8f0cdbcccbf54bd292a0b79b22839f4e",
       "version_major": 2,
       "version_minor": 0
      },
      "text/plain": [
       "  0%|          | 0/701 [00:00<?, ?it/s]"
      ]
     },
     "metadata": {},
     "output_type": "display_data"
    },
    {
     "name": "stdout",
     "output_type": "stream",
     "text": [
      "0 train: 0.9954217888319203\n"
     ]
    },
    {
     "data": {
      "application/vnd.jupyter.widget-view+json": {
       "model_id": "5af2d80f7f8e4638ab50f3de4be852aa",
       "version_major": 2,
       "version_minor": 0
      },
      "text/plain": [
       "  0%|          | 0/214 [00:00<?, ?it/s]"
      ]
     },
     "metadata": {},
     "output_type": "display_data"
    },
    {
     "name": "stdout",
     "output_type": "stream",
     "text": [
      "0 validation loss: 1.059153828665475\n",
      "0 validation lev_mean: 1.819714181018688\n"
     ]
    }
   ],
   "source": [
    "num_epochs = 1\n",
    "load_checkpoint_name = 'models/model_2'\n",
    "checkpoint_name = 'models/model_3'\n",
    "\n",
    "crnn = load_checkpoint(load_checkpoint_name)\n",
    "crnn.to(device)\n",
    "\n",
    "optimizer = torch.optim.Adam(crnn.parameters(), lr=1.6e-3, amsgrad=True, weight_decay=1e-4)\n",
    "\n",
    "\n",
    "train_model(device, crnn, optimizer, train_dataloader, val_dataloader,\n",
    "            id_to_char, num_epochs=num_epochs, checkpoint_name=checkpoint_name)"
   ]
  },
  {
   "cell_type": "code",
   "execution_count": 22,
   "metadata": {},
   "outputs": [
    {
     "data": {
      "application/vnd.jupyter.widget-view+json": {
       "model_id": "53eb3f5154454b618d021348dc0ad9e7",
       "version_major": 2,
       "version_minor": 0
      },
      "text/plain": [
       "  0%|          | 0/701 [00:00<?, ?it/s]"
      ]
     },
     "metadata": {},
     "output_type": "display_data"
    },
    {
     "name": "stdout",
     "output_type": "stream",
     "text": [
      "0 train: 0.8800731603157164\n"
     ]
    },
    {
     "data": {
      "application/vnd.jupyter.widget-view+json": {
       "model_id": "f6f95f0f46a84b838d42ed0e8e8a12b6",
       "version_major": 2,
       "version_minor": 0
      },
      "text/plain": [
       "  0%|          | 0/214 [00:00<?, ?it/s]"
      ]
     },
     "metadata": {},
     "output_type": "display_data"
    },
    {
     "name": "stdout",
     "output_type": "stream",
     "text": [
      "0 validation loss: 0.9862800663876756\n",
      "0 validation lev_mean: 1.7043972150971052\n"
     ]
    }
   ],
   "source": [
    "num_epochs = 1\n",
    "load_checkpoint_name = 'models/model_3'\n",
    "checkpoint_name = 'models/model_4'\n",
    "\n",
    "crnn = load_checkpoint(load_checkpoint_name)\n",
    "crnn.to(device)\n",
    "\n",
    "optimizer = torch.optim.Adam(crnn.parameters(), lr=0.9e-3, amsgrad=True, weight_decay=1e-4)\n",
    "\n",
    "\n",
    "train_model(device, crnn, optimizer, train_dataloader, val_dataloader,\n",
    "            id_to_char, num_epochs=num_epochs, checkpoint_name=checkpoint_name)"
   ]
  },
  {
   "cell_type": "code",
   "execution_count": 23,
   "metadata": {},
   "outputs": [
    {
     "data": {
      "application/vnd.jupyter.widget-view+json": {
       "model_id": "978d3787d78243e6baa66a6f6df5c7ff",
       "version_major": 2,
       "version_minor": 0
      },
      "text/plain": [
       "  0%|          | 0/701 [00:00<?, ?it/s]"
      ]
     },
     "metadata": {},
     "output_type": "display_data"
    },
    {
     "name": "stdout",
     "output_type": "stream",
     "text": [
      "0 train: 0.7564723962723954\n"
     ]
    },
    {
     "data": {
      "application/vnd.jupyter.widget-view+json": {
       "model_id": "116fcdddf85144de843eacac6d39961d",
       "version_major": 2,
       "version_minor": 0
      },
      "text/plain": [
       "  0%|          | 0/214 [00:00<?, ?it/s]"
      ]
     },
     "metadata": {},
     "output_type": "display_data"
    },
    {
     "name": "stdout",
     "output_type": "stream",
     "text": [
      "0 validation loss: 0.9276260878438147\n",
      "0 validation lev_mean: 1.5886038842066692\n"
     ]
    }
   ],
   "source": [
    "num_epochs = 1\n",
    "load_checkpoint_name = 'models/model_4'\n",
    "checkpoint_name = 'models/model_5'\n",
    "\n",
    "crnn = load_checkpoint(load_checkpoint_name)\n",
    "crnn.to(device)\n",
    "\n",
    "optimizer = torch.optim.Adam(crnn.parameters(), lr=3e-4, amsgrad=True, weight_decay=1e-4)\n",
    "\n",
    "\n",
    "train_model(device, crnn, optimizer, train_dataloader, val_dataloader,\n",
    "            id_to_char, num_epochs=num_epochs, checkpoint_name=checkpoint_name)"
   ]
  },
  {
   "cell_type": "code",
   "execution_count": 24,
   "metadata": {},
   "outputs": [
    {
     "data": {
      "application/vnd.jupyter.widget-view+json": {
       "model_id": "2bae608d3ac14379a0c3d291ec6e2a34",
       "version_major": 2,
       "version_minor": 0
      },
      "text/plain": [
       "  0%|          | 0/701 [00:00<?, ?it/s]"
      ]
     },
     "metadata": {},
     "output_type": "display_data"
    },
    {
     "name": "stdout",
     "output_type": "stream",
     "text": [
      "0 train: 0.7068643099741316\n"
     ]
    },
    {
     "data": {
      "application/vnd.jupyter.widget-view+json": {
       "model_id": "b45d1e738f58431890faf293257cee08",
       "version_major": 2,
       "version_minor": 0
      },
      "text/plain": [
       "  0%|          | 0/214 [00:00<?, ?it/s]"
      ]
     },
     "metadata": {},
     "output_type": "display_data"
    },
    {
     "name": "stdout",
     "output_type": "stream",
     "text": [
      "0 validation loss: 0.924611641703365\n",
      "0 validation lev_mean: 1.5618541590326127\n"
     ]
    }
   ],
   "source": [
    "num_epochs = 1\n",
    "load_checkpoint_name = 'models/model_5'\n",
    "checkpoint_name = 'models/model_6'\n",
    "\n",
    "crnn = load_checkpoint(load_checkpoint_name)\n",
    "crnn.to(device)\n",
    "\n",
    "optimizer = torch.optim.Adam(crnn.parameters(), lr=2.3e-4, amsgrad=True, weight_decay=1e-4)\n",
    "\n",
    "\n",
    "train_model(device, crnn, optimizer, train_dataloader, val_dataloader,\n",
    "            id_to_char, num_epochs=num_epochs, checkpoint_name=checkpoint_name)"
   ]
  },
  {
   "cell_type": "code",
   "execution_count": 25,
   "metadata": {},
   "outputs": [
    {
     "data": {
      "application/vnd.jupyter.widget-view+json": {
       "model_id": "681de06ab52d4eae8eb5ae39b679af87",
       "version_major": 2,
       "version_minor": 0
      },
      "text/plain": [
       "  0%|          | 0/701 [00:00<?, ?it/s]"
      ]
     },
     "metadata": {},
     "output_type": "display_data"
    },
    {
     "name": "stdout",
     "output_type": "stream",
     "text": [
      "0 train: 0.6704907590754532\n"
     ]
    },
    {
     "data": {
      "application/vnd.jupyter.widget-view+json": {
       "model_id": "85adc15f46364cc3a57a66ed6a507c2b",
       "version_major": 2,
       "version_minor": 0
      },
      "text/plain": [
       "  0%|          | 0/214 [00:00<?, ?it/s]"
      ]
     },
     "metadata": {},
     "output_type": "display_data"
    },
    {
     "name": "stdout",
     "output_type": "stream",
     "text": [
      "0 validation loss: 0.9275900114362485\n",
      "0 validation lev_mean: 1.5602052033711982\n"
     ]
    }
   ],
   "source": [
    "num_epochs = 1\n",
    "load_checkpoint_name = 'models/model_6'\n",
    "checkpoint_name = 'models/model_7'\n",
    "\n",
    "crnn = load_checkpoint(load_checkpoint_name)\n",
    "crnn.to(device)\n",
    "\n",
    "optimizer = torch.optim.Adam(crnn.parameters(), lr=1.6e-4, amsgrad=True, weight_decay=1e-4)\n",
    "\n",
    "\n",
    "train_model(device, crnn, optimizer, train_dataloader, val_dataloader,\n",
    "            id_to_char, num_epochs=num_epochs, checkpoint_name=checkpoint_name)"
   ]
  },
  {
   "cell_type": "code",
   "execution_count": 26,
   "metadata": {},
   "outputs": [
    {
     "data": {
      "application/vnd.jupyter.widget-view+json": {
       "model_id": "08f3bbf8f8104de2a0807582222aec0b",
       "version_major": 2,
       "version_minor": 0
      },
      "text/plain": [
       "  0%|          | 0/701 [00:00<?, ?it/s]"
      ]
     },
     "metadata": {},
     "output_type": "display_data"
    },
    {
     "name": "stdout",
     "output_type": "stream",
     "text": [
      "0 train: 0.6391654494145458\n"
     ]
    },
    {
     "data": {
      "application/vnd.jupyter.widget-view+json": {
       "model_id": "5dc46ef1e9e84713addd45a00e31afff",
       "version_major": 2,
       "version_minor": 0
      },
      "text/plain": [
       "  0%|          | 0/214 [00:00<?, ?it/s]"
      ]
     },
     "metadata": {},
     "output_type": "display_data"
    },
    {
     "name": "stdout",
     "output_type": "stream",
     "text": [
      "0 validation loss: 0.9328623684210198\n",
      "0 validation lev_mean: 1.547160131916453\n"
     ]
    }
   ],
   "source": [
    "num_epochs = 1\n",
    "load_checkpoint_name = 'models/model_7'\n",
    "checkpoint_name = 'models/model_8'\n",
    "\n",
    "crnn = load_checkpoint(load_checkpoint_name)\n",
    "crnn.to(device)\n",
    "\n",
    "optimizer = torch.optim.Adam(crnn.parameters(), lr=0.9e-4, amsgrad=True, weight_decay=1e-4)\n",
    "\n",
    "\n",
    "train_model(device, crnn, optimizer, train_dataloader, val_dataloader,\n",
    "            id_to_char, num_epochs=num_epochs, checkpoint_name=checkpoint_name)"
   ]
  },
  {
   "cell_type": "markdown",
   "metadata": {},
   "source": [
    "### Получим ещё один сабмит, используя новые полученные результаты"
   ]
  },
  {
   "cell_type": "code",
   "execution_count": 42,
   "metadata": {},
   "outputs": [
    {
     "data": {
      "application/vnd.jupyter.widget-view+json": {
       "model_id": "f51fa5e6f45f4b86a459c9033b4ab9c6",
       "version_major": 2,
       "version_minor": 0
      },
      "text/plain": [
       "  0%|          | 0/415 [00:00<?, ?it/s]"
      ]
     },
     "metadata": {},
     "output_type": "display_data"
    },
    {
     "data": {
      "text/html": [
       "<div>\n",
       "<style scoped>\n",
       "    .dataframe tbody tr th:only-of-type {\n",
       "        vertical-align: middle;\n",
       "    }\n",
       "\n",
       "    .dataframe tbody tr th {\n",
       "        vertical-align: top;\n",
       "    }\n",
       "\n",
       "    .dataframe thead th {\n",
       "        text-align: right;\n",
       "    }\n",
       "</style>\n",
       "<table border=\"1\" class=\"dataframe\">\n",
       "  <thead>\n",
       "    <tr style=\"text-align: right;\">\n",
       "      <th></th>\n",
       "      <th>Id</th>\n",
       "      <th>Predicted</th>\n",
       "    </tr>\n",
       "  </thead>\n",
       "  <tbody>\n",
       "    <tr>\n",
       "      <th>0</th>\n",
       "      <td>1.jpg</td>\n",
       "      <td>роду,</td>\n",
       "    </tr>\n",
       "    <tr>\n",
       "      <th>1</th>\n",
       "      <td>2.jpg</td>\n",
       "      <td>1E</td>\n",
       "    </tr>\n",
       "    <tr>\n",
       "      <th>2</th>\n",
       "      <td>3.jpg</td>\n",
       "      <td>LASMANG BANC</td>\n",
       "    </tr>\n",
       "    <tr>\n",
       "      <th>3</th>\n",
       "      <td>4.jpg</td>\n",
       "      <td>Moketmme</td>\n",
       "    </tr>\n",
       "    <tr>\n",
       "      <th>4</th>\n",
       "      <td>5.jpg</td>\n",
       "      <td>BAO</td>\n",
       "    </tr>\n",
       "    <tr>\n",
       "      <th>...</th>\n",
       "      <td>...</td>\n",
       "      <td>...</td>\n",
       "    </tr>\n",
       "    <tr>\n",
       "      <th>52994</th>\n",
       "      <td>52996.jpg</td>\n",
       "      <td>*</td>\n",
       "    </tr>\n",
       "    <tr>\n",
       "      <th>52995</th>\n",
       "      <td>52997.jpg</td>\n",
       "      <td>TUAN</td>\n",
       "    </tr>\n",
       "    <tr>\n",
       "      <th>52996</th>\n",
       "      <td>52998.jpg</td>\n",
       "      <td>1505</td>\n",
       "    </tr>\n",
       "    <tr>\n",
       "      <th>52997</th>\n",
       "      <td>52999.jpg</td>\n",
       "      <td>B</td>\n",
       "    </tr>\n",
       "    <tr>\n",
       "      <th>52998</th>\n",
       "      <td>53000.jpg</td>\n",
       "      <td>запре</td>\n",
       "    </tr>\n",
       "  </tbody>\n",
       "</table>\n",
       "<p>52999 rows × 2 columns</p>\n",
       "</div>"
      ],
      "text/plain": [
       "              Id     Predicted\n",
       "0          1.jpg         роду,\n",
       "1          2.jpg            1E\n",
       "2          3.jpg  LASMANG BANC\n",
       "3          4.jpg      Moketmme\n",
       "4          5.jpg           BAO\n",
       "...          ...           ...\n",
       "52994  52996.jpg             *\n",
       "52995  52997.jpg          TUAN\n",
       "52996  52998.jpg          1505\n",
       "52997  52999.jpg             B\n",
       "52998  53000.jpg         запре\n",
       "\n",
       "[52999 rows x 2 columns]"
      ]
     },
     "execution_count": 42,
     "metadata": {},
     "output_type": "execute_result"
    }
   ],
   "source": [
    "submission_df = pd.read_csv(os.path.join(DATA_PATH, 'sample_submission.csv')) \\\n",
    "    .rename(columns={'Predicted': 'Expected'})\n",
    "\n",
    "test_dataset = RecognitionDataset(submission_df, char_to_id=char_to_id, folder=TEST_IMAGES, \n",
    "                                   transforms=train_transform)\n",
    "\n",
    "test_batch_size = 128\n",
    "num_workers = 6\n",
    "\n",
    "test_dataloader = DataLoader(test_dataset, \n",
    "                            batch_size=test_batch_size, shuffle=False, num_workers=num_workers, pin_memory=True, \n",
    "                            drop_last=False, collate_fn=collate_fn)\n",
    "\n",
    "\n",
    "load_checkpoint_name = 'models/model_8'\n",
    "crnn = load_checkpoint(load_checkpoint_name)\n",
    "crnn.to(device)\n",
    "\n",
    "result_path = os.path.join(RESULTS_PATH, 'submission_2_(1_5471).csv')\n",
    "result = get_predictions(device, crnn, test_dataloader, id_to_char, submission_df, result_path)\n",
    "result"
   ]
  },
  {
   "cell_type": "code",
   "execution_count": null,
   "metadata": {},
   "outputs": [],
   "source": []
  },
  {
   "cell_type": "code",
   "execution_count": null,
   "metadata": {},
   "outputs": [],
   "source": []
  }
 ],
 "metadata": {
  "kernelspec": {
   "display_name": "Python 3",
   "language": "python",
   "name": "python3"
  },
  "language_info": {
   "codemirror_mode": {
    "name": "ipython",
    "version": 3
   },
   "file_extension": ".py",
   "mimetype": "text/x-python",
   "name": "python",
   "nbconvert_exporter": "python",
   "pygments_lexer": "ipython3",
   "version": "3.7.9"
  }
 },
 "nbformat": 4,
 "nbformat_minor": 4
}
